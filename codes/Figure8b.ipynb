{
 "cells": [
  {
   "cell_type": "code",
   "execution_count": 500,
   "id": "93b8570d-878b-44fc-b32c-8b19ec309cc5",
   "metadata": {},
   "outputs": [],
   "source": [
    "import time\n",
    "import numpy as np\n",
    "import math\n",
    "import matplotlib.pyplot as plt\n",
    "from multiprocessing import Pool\n",
    "import random\n",
    "import timeit\n",
    "import copy\n",
    "import pandas as pd\n",
    "import warnings\n",
    "import scipy.integrate as integrate\n",
    "warnings.filterwarnings('ignore')\n",
    "import sys,os\n",
    "sys.path.append(os.path.abspath(\"../../\"))\n",
    "from LBL_funcs_waterRTM import *\n",
    "import re\n",
    "import scipy.integrate as integrate"
   ]
  },
  {
   "cell_type": "code",
   "execution_count": 501,
   "id": "60cf2529-4715-4cb1-9598-1d61ced5d1c8",
   "metadata": {},
   "outputs": [],
   "source": [
    "data = np.genfromtxt('../../data/profiles/ASTMG173.csv', delimiter=',', skip_header=1,  # in wavenumber basis\n",
    "                     names=['wavelength', 'column2', 'column3', '37d_irrdiance'])\n",
    "nu = np.arange(2500,33333+5,5)  # cm-1\n",
    "ref_lam = data['wavelength'][1:]  # nm\n",
    "ref_E = data['37d_irrdiance'][1:]  # Direct+circumsolar W/[m2*nm]\n",
    "ref_E_nu=-ref_E*ref_lam**2/1e7  # W/[m2*nm-1] to W/[m2*cm-1]\n",
    "F_dw_os = -np.interp(-nu, -1e7/ref_lam, ref_E_nu)  # W/[m2*cm-1] "
   ]
  },
  {
   "cell_type": "code",
   "execution_count": 502,
   "id": "8ab1714e-de5e-43fa-b1d2-cb4a0e32b1a9",
   "metadata": {},
   "outputs": [
    {
     "name": "stdout",
     "output_type": "stream",
     "text": [
      "900.1446337433081 W/m-2\n",
      "900.139329284215\n"
     ]
    }
   ],
   "source": [
    "import scipy.integrate as integrate\n",
    "\n",
    "I2 = integrate.trapz(F_dw_os, nu)\n",
    "I1 = integrate.trapz(ref_E,ref_lam)\n",
    "F_dw0 = I2\n",
    "print(f\"{I2} W/m-2\")\n",
    "print(I1)"
   ]
  },
  {
   "cell_type": "markdown",
   "id": "e34cf747-40bf-4020-9c14-8d50c29b8d65",
   "metadata": {},
   "source": [
    "## extract file"
   ]
  },
  {
   "cell_type": "code",
   "execution_count": 503,
   "id": "43b29025-056c-479f-b576-4145e41d3a3e",
   "metadata": {},
   "outputs": [
    {
     "data": {
      "text/plain": [
       "7"
      ]
     },
     "execution_count": 503,
     "metadata": {},
     "output_type": "execute_result"
    }
   ],
   "source": [
    "def calculateF(res,nu):\n",
    "    F_gas = res.item().get('F_n_abs')\n",
    "    N_layer = F_gas.shape[0]\n",
    "    F_total = 0\n",
    "    items1 = ['F_n_abs', 'F_n_abs_rights','F_n_abs_leftn','F_n_abs_fronte','F_n_abs_backw']\n",
    "    for item in items1:\n",
    "        temp = res.item().get(item)\n",
    "        F_i = integrate.trapz(temp, nu, axis=1)\n",
    "        F_total += np.sum(F_i)\n",
    "    F_1stLayer = res.item().get(\"F_n_abs\")[-2]  # first layer is -2, -1 is incident E.\n",
    "    F_body = res.item().get(\"F_n_abs\")[1:-2]  # 0 is bottom\n",
    "    F_edge = res.item().get('F_n_abs_rights') + res.item().get('F_n_abs_leftn') \\\n",
    "             + res.item().get('F_n_abs_fronte') + res.item().get('F_n_abs_backw')\n",
    "    F_bottom= res.item().get('F_n_abs')[0]\n",
    "    F_dw = res.item().get('F_n_dw')\n",
    "    F_uw = res.item().get('F_n_uw')\n",
    "    return F_bottom, F_1stLayer, F_body, F_edge, F_dw\n",
    "\n",
    "def check_convergence(y, mean):\n",
    "    diff = [np.nan]\n",
    "    for i in range(1, len(y)):\n",
    "        dy = abs(y[i] - y[i-1])\n",
    "        diff.append(1-dy/mean*100)\n",
    "    return diff\n",
    "\n",
    "depth = 200\n",
    "width = 10*100\n",
    "long = 10*100\n",
    "path = \"./\"\n",
    "Fls = os.listdir(path)\n",
    "\n",
    "Fls = [s for s in Fls if s.endswith('.npy')]\n",
    "len(Fls)"
   ]
  },
  {
   "cell_type": "code",
   "execution_count": 504,
   "id": "8bcff648-3d6c-43da-9ea1-e486b845b886",
   "metadata": {},
   "outputs": [
    {
     "name": "stdout",
     "output_type": "stream",
     "text": [
      "(202, 6168)\n"
     ]
    },
    {
     "data": {
      "text/plain": [
       "900.1731235538831"
      ]
     },
     "execution_count": 504,
     "metadata": {},
     "output_type": "execute_result"
    }
   ],
   "source": [
    "# 1. Tmperature extracted from file name\n",
    "Angle = []\n",
    "for string in Fls:\n",
    "    match = re.search(r'_([\\d.]+)theta', string)\n",
    "    if match:\n",
    "        Angle.append(int(match.group(1)))\n",
    "df1 = pd.DataFrame({\"Angle\":Angle})\n",
    "\n",
    "# 2. extract all kinds of energy and save it as pandas\n",
    "# allocate a empty dataframe\n",
    "df2 = pd.DataFrame(columns=[\"F_bottom\",\"F_1stLayer\",\"F_body\",\"F_edge\",\"F_dw\"])\n",
    "for i in range(len(Fls)):\n",
    "    res = np.load(Fls[i], allow_pickle=True)\n",
    "    columns = [\"F_bottom\", \"F_1stLayer\", \"F_body\", \"F_edge\", \"F_dw\"]\n",
    "    values = calculateF(res, nu)\n",
    "    df2.loc[i, columns] = values\n",
    "dataf = pd.concat([df1, df2], axis=1)\n",
    "del df1, df2\n",
    "\n",
    "df = dataf.sort_values(by='Angle')\n",
    "\n",
    "df0 = df.iloc[0]\n",
    "print(df0['F_dw'].shape)\n",
    "# layer = 202, 1 TOW, 1 bottom, 200 layers.\n",
    "# 0 = bottom, -1 TOW\n",
    "np.sum(df0['F_dw'][-1])*5"
   ]
  },
  {
   "cell_type": "markdown",
   "id": "9258e714-9df8-4010-9ab5-e66ca43732fc",
   "metadata": {},
   "source": [
    "## A. Angle's impact to the water received"
   ]
  },
  {
   "cell_type": "code",
   "execution_count": 505,
   "id": "4fdc9b35-8bb0-472f-8992-b7340a80bcbf",
   "metadata": {},
   "outputs": [],
   "source": [
    "# extract temp == 5800\n",
    "df = dataf.sort_values(by='Angle')\n",
    "df.set_index(df['Angle'].values,inplace=True)\n",
    "#df.drop(df.columns[0],axis=1, inplace=True)\n",
    "#df.drop(df.columns[-1],axis=1, inplace=True)"
   ]
  },
  {
   "cell_type": "code",
   "execution_count": 506,
   "id": "dd177ac3-29a9-40aa-8a61-bf366a061bae",
   "metadata": {},
   "outputs": [
    {
     "data": {
      "text/html": [
       "<div>\n",
       "<style scoped>\n",
       "    .dataframe tbody tr th:only-of-type {\n",
       "        vertical-align: middle;\n",
       "    }\n",
       "\n",
       "    .dataframe tbody tr th {\n",
       "        vertical-align: top;\n",
       "    }\n",
       "\n",
       "    .dataframe thead th {\n",
       "        text-align: right;\n",
       "    }\n",
       "</style>\n",
       "<table border=\"1\" class=\"dataframe\">\n",
       "  <thead>\n",
       "    <tr style=\"text-align: right;\">\n",
       "      <th></th>\n",
       "      <th>F_bottom_sum</th>\n",
       "      <th>F_1stLayer_sum</th>\n",
       "      <th>F_body_sum</th>\n",
       "      <th>F_edge_sum</th>\n",
       "      <th>Reflection rate</th>\n",
       "    </tr>\n",
       "  </thead>\n",
       "  <tbody>\n",
       "    <tr>\n",
       "      <th>0</th>\n",
       "      <td>0.346323</td>\n",
       "      <td>0.213492</td>\n",
       "      <td>0.427575</td>\n",
       "      <td>0.004685</td>\n",
       "      <td>0.007924</td>\n",
       "    </tr>\n",
       "    <tr>\n",
       "      <th>15</th>\n",
       "      <td>0.328743</td>\n",
       "      <td>0.210530</td>\n",
       "      <td>0.418076</td>\n",
       "      <td>0.015138</td>\n",
       "      <td>0.027513</td>\n",
       "    </tr>\n",
       "    <tr>\n",
       "      <th>30</th>\n",
       "      <td>0.318613</td>\n",
       "      <td>0.213915</td>\n",
       "      <td>0.416677</td>\n",
       "      <td>0.022442</td>\n",
       "      <td>0.028353</td>\n",
       "    </tr>\n",
       "    <tr>\n",
       "      <th>45</th>\n",
       "      <td>0.305255</td>\n",
       "      <td>0.218092</td>\n",
       "      <td>0.413420</td>\n",
       "      <td>0.028561</td>\n",
       "      <td>0.034672</td>\n",
       "    </tr>\n",
       "    <tr>\n",
       "      <th>60</th>\n",
       "      <td>0.283405</td>\n",
       "      <td>0.217925</td>\n",
       "      <td>0.400199</td>\n",
       "      <td>0.032946</td>\n",
       "      <td>0.065524</td>\n",
       "    </tr>\n",
       "    <tr>\n",
       "      <th>75</th>\n",
       "      <td>0.225548</td>\n",
       "      <td>0.188639</td>\n",
       "      <td>0.335494</td>\n",
       "      <td>0.034195</td>\n",
       "      <td>0.216124</td>\n",
       "    </tr>\n",
       "    <tr>\n",
       "      <th>85</th>\n",
       "      <td>0.116885</td>\n",
       "      <td>0.101329</td>\n",
       "      <td>0.177995</td>\n",
       "      <td>0.019328</td>\n",
       "      <td>0.584463</td>\n",
       "    </tr>\n",
       "  </tbody>\n",
       "</table>\n",
       "</div>"
      ],
      "text/plain": [
       "    F_bottom_sum  F_1stLayer_sum  F_body_sum  F_edge_sum  Reflection rate\n",
       "0       0.346323        0.213492    0.427575    0.004685         0.007924\n",
       "15      0.328743        0.210530    0.418076    0.015138         0.027513\n",
       "30      0.318613        0.213915    0.416677    0.022442         0.028353\n",
       "45      0.305255        0.218092    0.413420    0.028561         0.034672\n",
       "60      0.283405        0.217925    0.400199    0.032946         0.065524\n",
       "75      0.225548        0.188639    0.335494    0.034195         0.216124\n",
       "85      0.116885        0.101329    0.177995    0.019328         0.584463"
      ]
     },
     "execution_count": 506,
     "metadata": {},
     "output_type": "execute_result"
    }
   ],
   "source": [
    "df_sum = df.applymap(np.sum)\n",
    "# For renaming columns to reflect they have been summed\n",
    "df_sum.columns = [f'{col}_sum' for col in df_sum.columns]\n",
    "total = F_dw0/5\n",
    "df_sum.drop(df_sum.columns[0],axis=1, inplace=True)\n",
    "df_sum.drop(df_sum.columns[-1],axis=1, inplace=True)\n",
    "df_ratio = df_sum.div(total,axis=0)\n",
    "df_ratio[\"Reflection rate\"] = 1-df_ratio.sum(axis=1)\n",
    "#df_ratio.drop(df_ratio.columns[0],axis=1, inplace=True)\n",
    "df_ratio"
   ]
  },
  {
   "cell_type": "markdown",
   "id": "4ad58ad8-5f65-479b-bed5-8b5b8b66317d",
   "metadata": {
    "tags": []
   },
   "source": [
    "#### validation"
   ]
  },
  {
   "cell_type": "code",
   "execution_count": 13,
   "id": "0a0f846d-c454-45e8-9c24-e37226dd648f",
   "metadata": {},
   "outputs": [
    {
     "data": {
      "text/html": [
       "<div>\n",
       "<style scoped>\n",
       "    .dataframe tbody tr th:only-of-type {\n",
       "        vertical-align: middle;\n",
       "    }\n",
       "\n",
       "    .dataframe tbody tr th {\n",
       "        vertical-align: top;\n",
       "    }\n",
       "\n",
       "    .dataframe thead th {\n",
       "        text-align: right;\n",
       "    }\n",
       "</style>\n",
       "<table border=\"1\" class=\"dataframe\">\n",
       "  <thead>\n",
       "    <tr style=\"text-align: right;\">\n",
       "      <th></th>\n",
       "      <th>F_bottom_sum</th>\n",
       "      <th>F_edge_sum</th>\n",
       "      <th>F_body_sum</th>\n",
       "      <th>F_1stLayer_sum</th>\n",
       "    </tr>\n",
       "  </thead>\n",
       "  <tbody>\n",
       "    <tr>\n",
       "      <th>0</th>\n",
       "      <td>0.346323</td>\n",
       "      <td>0.004685</td>\n",
       "      <td>0.427575</td>\n",
       "      <td>0.641068</td>\n",
       "    </tr>\n",
       "    <tr>\n",
       "      <th>15</th>\n",
       "      <td>0.328743</td>\n",
       "      <td>0.015138</td>\n",
       "      <td>0.418076</td>\n",
       "      <td>0.628606</td>\n",
       "    </tr>\n",
       "    <tr>\n",
       "      <th>30</th>\n",
       "      <td>0.318613</td>\n",
       "      <td>0.022442</td>\n",
       "      <td>0.416677</td>\n",
       "      <td>0.630592</td>\n",
       "    </tr>\n",
       "    <tr>\n",
       "      <th>45</th>\n",
       "      <td>0.305255</td>\n",
       "      <td>0.028561</td>\n",
       "      <td>0.413420</td>\n",
       "      <td>0.631512</td>\n",
       "    </tr>\n",
       "    <tr>\n",
       "      <th>60</th>\n",
       "      <td>0.283405</td>\n",
       "      <td>0.032946</td>\n",
       "      <td>0.400199</td>\n",
       "      <td>0.618125</td>\n",
       "    </tr>\n",
       "    <tr>\n",
       "      <th>75</th>\n",
       "      <td>0.225548</td>\n",
       "      <td>0.034195</td>\n",
       "      <td>0.335494</td>\n",
       "      <td>0.524133</td>\n",
       "    </tr>\n",
       "    <tr>\n",
       "      <th>85</th>\n",
       "      <td>0.116885</td>\n",
       "      <td>0.019328</td>\n",
       "      <td>0.177995</td>\n",
       "      <td>0.279323</td>\n",
       "    </tr>\n",
       "  </tbody>\n",
       "</table>\n",
       "</div>"
      ],
      "text/plain": [
       "    F_bottom_sum  F_edge_sum  F_body_sum  F_1stLayer_sum\n",
       "0       0.346323    0.004685    0.427575        0.641068\n",
       "15      0.328743    0.015138    0.418076        0.628606\n",
       "30      0.318613    0.022442    0.416677        0.630592\n",
       "45      0.305255    0.028561    0.413420        0.631512\n",
       "60      0.283405    0.032946    0.400199        0.618125\n",
       "75      0.225548    0.034195    0.335494        0.524133\n",
       "85      0.116885    0.019328    0.177995        0.279323"
      ]
     },
     "execution_count": 13,
     "metadata": {},
     "output_type": "execute_result"
    }
   ],
   "source": [
    "df_ratio['F_1stLayer_sum'] = df_ratio['F_1stLayer_sum']+df_ratio['F_body_sum']\n",
    "df_ratio"
   ]
  },
  {
   "cell_type": "code",
   "execution_count": 14,
   "id": "e17544d5-b700-4f1f-acbe-34e86a67f786",
   "metadata": {},
   "outputs": [],
   "source": [
    "df_ratio['F_bottom_sum'] = df_ratio['F_bottom_sum']+df_ratio['F_edge_sum']"
   ]
  },
  {
   "cell_type": "code",
   "execution_count": 15,
   "id": "0be9e399-606d-4b42-bcaf-cd6795bfb5cc",
   "metadata": {},
   "outputs": [
    {
     "data": {
      "text/html": [
       "<div>\n",
       "<style scoped>\n",
       "    .dataframe tbody tr th:only-of-type {\n",
       "        vertical-align: middle;\n",
       "    }\n",
       "\n",
       "    .dataframe tbody tr th {\n",
       "        vertical-align: top;\n",
       "    }\n",
       "\n",
       "    .dataframe thead th {\n",
       "        text-align: right;\n",
       "    }\n",
       "</style>\n",
       "<table border=\"1\" class=\"dataframe\">\n",
       "  <thead>\n",
       "    <tr style=\"text-align: right;\">\n",
       "      <th></th>\n",
       "      <th>F_bottom_sum</th>\n",
       "      <th>F_edge_sum</th>\n",
       "      <th>F_body_sum</th>\n",
       "      <th>F_1stLayer_sum</th>\n",
       "    </tr>\n",
       "  </thead>\n",
       "  <tbody>\n",
       "    <tr>\n",
       "      <th>0</th>\n",
       "      <td>0.351008</td>\n",
       "      <td>0.004685</td>\n",
       "      <td>0.427575</td>\n",
       "      <td>0.641068</td>\n",
       "    </tr>\n",
       "    <tr>\n",
       "      <th>15</th>\n",
       "      <td>0.343880</td>\n",
       "      <td>0.015138</td>\n",
       "      <td>0.418076</td>\n",
       "      <td>0.628606</td>\n",
       "    </tr>\n",
       "    <tr>\n",
       "      <th>30</th>\n",
       "      <td>0.341055</td>\n",
       "      <td>0.022442</td>\n",
       "      <td>0.416677</td>\n",
       "      <td>0.630592</td>\n",
       "    </tr>\n",
       "    <tr>\n",
       "      <th>45</th>\n",
       "      <td>0.333816</td>\n",
       "      <td>0.028561</td>\n",
       "      <td>0.413420</td>\n",
       "      <td>0.631512</td>\n",
       "    </tr>\n",
       "    <tr>\n",
       "      <th>60</th>\n",
       "      <td>0.316351</td>\n",
       "      <td>0.032946</td>\n",
       "      <td>0.400199</td>\n",
       "      <td>0.618125</td>\n",
       "    </tr>\n",
       "    <tr>\n",
       "      <th>75</th>\n",
       "      <td>0.259743</td>\n",
       "      <td>0.034195</td>\n",
       "      <td>0.335494</td>\n",
       "      <td>0.524133</td>\n",
       "    </tr>\n",
       "    <tr>\n",
       "      <th>85</th>\n",
       "      <td>0.136214</td>\n",
       "      <td>0.019328</td>\n",
       "      <td>0.177995</td>\n",
       "      <td>0.279323</td>\n",
       "    </tr>\n",
       "  </tbody>\n",
       "</table>\n",
       "</div>"
      ],
      "text/plain": [
       "    F_bottom_sum  F_edge_sum  F_body_sum  F_1stLayer_sum\n",
       "0       0.351008    0.004685    0.427575        0.641068\n",
       "15      0.343880    0.015138    0.418076        0.628606\n",
       "30      0.341055    0.022442    0.416677        0.630592\n",
       "45      0.333816    0.028561    0.413420        0.631512\n",
       "60      0.316351    0.032946    0.400199        0.618125\n",
       "75      0.259743    0.034195    0.335494        0.524133\n",
       "85      0.136214    0.019328    0.177995        0.279323"
      ]
     },
     "execution_count": 15,
     "metadata": {},
     "output_type": "execute_result"
    }
   ],
   "source": [
    "df_ratio"
   ]
  },
  {
   "cell_type": "code",
   "execution_count": 16,
   "id": "62454609-da7e-4a7d-9716-c6c22e040923",
   "metadata": {},
   "outputs": [],
   "source": [
    "exp_bott = np.array([33.8, 33.6, 33.1, 32.1, 30.1, 24.5])/100\n",
    "exp_water = np.array([64.2, 64.4, 64.8, 65.1, 63.9, 54.3])/100\n",
    "angle = [0,15,30,45,60,75]\n",
    "\n",
    "# rho=0.0\n",
    "exp_bott = np.array([33.8,  33.6, 33.1, 32.1, 30.1, 24.5])\n",
    "exp_water = np.array([64.2, 64.4, 64.8, 65.1, 63.9, 54.3])\n",
    "exp_reflec = np.array([6.6, 6.6,  6.6,  7.2,  10.1, 24.7])"
   ]
  },
  {
   "cell_type": "code",
   "execution_count": 17,
   "id": "860c34c9-6f39-45e5-8192-9a2f15d3a0a1",
   "metadata": {},
   "outputs": [
    {
     "data": {
      "image/png": "[encoded data removed]",
      "text/plain": [
       "<Figure size 640x480 with 1 Axes>"
      ]
     },
     "metadata": {},
     "output_type": "display_data"
    }
   ],
   "source": [
    "plt.plot(df_ratio.index, df_ratio['F_bottom_sum'].values,label='bottom RTM')\n",
    "plt.scatter(angle, exp_bott,label='bottom paper')\n",
    "\n",
    "plt.plot(df_ratio.index, df_ratio['F_1stLayer_sum'].values,label='water RTM')\n",
    "plt.scatter(angle, exp_water,label='water paper')\n",
    "\n",
    "plt.title(r'Pond depth L = 2 m, $\\rho =0.3$')\n",
    "plt.legend(loc='lower left')\n",
    "plt.show()"
   ]
  },
  {
   "cell_type": "markdown",
   "id": "8084e09a-07c6-4d3f-ad27-86041054228a",
   "metadata": {},
   "source": [
    "#### validation end"
   ]
  },
  {
   "cell_type": "code",
   "execution_count": 507,
   "id": "708aa61e-94f5-45fc-b27b-4f583fb98a60",
   "metadata": {},
   "outputs": [
    {
     "data": {
      "text/html": [
       "<div>\n",
       "<style scoped>\n",
       "    .dataframe tbody tr th:only-of-type {\n",
       "        vertical-align: middle;\n",
       "    }\n",
       "\n",
       "    .dataframe tbody tr th {\n",
       "        vertical-align: top;\n",
       "    }\n",
       "\n",
       "    .dataframe thead th {\n",
       "        text-align: right;\n",
       "    }\n",
       "</style>\n",
       "<table border=\"1\" class=\"dataframe\">\n",
       "  <thead>\n",
       "    <tr style=\"text-align: right;\">\n",
       "      <th></th>\n",
       "      <th>Bottom</th>\n",
       "      <th>Sides</th>\n",
       "      <th>Body</th>\n",
       "      <th>Surface</th>\n",
       "      <th>Reflected</th>\n",
       "    </tr>\n",
       "  </thead>\n",
       "  <tbody>\n",
       "    <tr>\n",
       "      <th>0</th>\n",
       "      <td>0.346323</td>\n",
       "      <td>0.004685</td>\n",
       "      <td>0.427575</td>\n",
       "      <td>0.213492</td>\n",
       "      <td>0.007924</td>\n",
       "    </tr>\n",
       "    <tr>\n",
       "      <th>15</th>\n",
       "      <td>0.328743</td>\n",
       "      <td>0.015138</td>\n",
       "      <td>0.418076</td>\n",
       "      <td>0.210530</td>\n",
       "      <td>0.027513</td>\n",
       "    </tr>\n",
       "    <tr>\n",
       "      <th>30</th>\n",
       "      <td>0.318613</td>\n",
       "      <td>0.022442</td>\n",
       "      <td>0.416677</td>\n",
       "      <td>0.213915</td>\n",
       "      <td>0.028353</td>\n",
       "    </tr>\n",
       "    <tr>\n",
       "      <th>45</th>\n",
       "      <td>0.305255</td>\n",
       "      <td>0.028561</td>\n",
       "      <td>0.413420</td>\n",
       "      <td>0.218092</td>\n",
       "      <td>0.034672</td>\n",
       "    </tr>\n",
       "    <tr>\n",
       "      <th>60</th>\n",
       "      <td>0.283405</td>\n",
       "      <td>0.032946</td>\n",
       "      <td>0.400199</td>\n",
       "      <td>0.217925</td>\n",
       "      <td>0.065524</td>\n",
       "    </tr>\n",
       "    <tr>\n",
       "      <th>75</th>\n",
       "      <td>0.225548</td>\n",
       "      <td>0.034195</td>\n",
       "      <td>0.335494</td>\n",
       "      <td>0.188639</td>\n",
       "      <td>0.216124</td>\n",
       "    </tr>\n",
       "    <tr>\n",
       "      <th>85</th>\n",
       "      <td>0.116885</td>\n",
       "      <td>0.019328</td>\n",
       "      <td>0.177995</td>\n",
       "      <td>0.101329</td>\n",
       "      <td>0.584463</td>\n",
       "    </tr>\n",
       "  </tbody>\n",
       "</table>\n",
       "</div>"
      ],
      "text/plain": [
       "      Bottom     Sides      Body   Surface  Reflected\n",
       "0   0.346323  0.004685  0.427575  0.213492   0.007924\n",
       "15  0.328743  0.015138  0.418076  0.210530   0.027513\n",
       "30  0.318613  0.022442  0.416677  0.213915   0.028353\n",
       "45  0.305255  0.028561  0.413420  0.218092   0.034672\n",
       "60  0.283405  0.032946  0.400199  0.217925   0.065524\n",
       "75  0.225548  0.034195  0.335494  0.188639   0.216124\n",
       "85  0.116885  0.019328  0.177995  0.101329   0.584463"
      ]
     },
     "execution_count": 507,
     "metadata": {},
     "output_type": "execute_result"
    }
   ],
   "source": [
    "df_ratio = df_ratio[['F_bottom_sum','F_edge_sum','F_body_sum','F_1stLayer_sum','Reflection rate']]\n",
    "df_ratio = df_ratio.reindex([0,15,30,45,60,75,85])\n",
    "df_ratio.columns = ['Bottom', 'Sides', 'Body', 'Surface','Reflected']\n",
    "df_ratio"
   ]
  },
  {
   "cell_type": "code",
   "execution_count": 138,
   "id": "c7a2c98d-a899-4122-bb87-e86a6baba930",
   "metadata": {
    "jupyter": {
     "source_hidden": true
    },
    "tags": []
   },
   "outputs": [],
   "source": [
    "font = 15\n",
    "fontfml = 'Times New Roman'\n",
    "plt.rcParams['font.size'] = font\n",
    "plt.rcParams['font.family'] = fontfml\n",
    "plt.rcParams['mathtext.fontset']='custom'\n",
    "plt.rcParams['mathtext.rm'] =fontfml\n",
    "plt.rcParams['mathtext.it'] = 'Times New Roman:italic'\n",
    "plt.rcParams['mathtext.bf'] = 'Times New Roman:bold'"
   ]
  },
  {
   "cell_type": "code",
   "execution_count": 146,
   "id": "85a50f23-6cdd-477e-949d-65d6f4e33522",
   "metadata": {
    "collapsed": true,
    "jupyter": {
     "outputs_hidden": true,
     "source_hidden": true
    },
    "tags": []
   },
   "outputs": [
    {
     "data": {
      "image/png": "[encoded data removed]",
      "text/plain": [
       "<Figure size 500x400 with 1 Axes>"
      ]
     },
     "metadata": {},
     "output_type": "display_data"
    }
   ],
   "source": [
    "df_ratio.columns = ['Bottom', 'Edges', 'Body', 'Surface','Reflected']\n",
    "import matplotlib.pyplot as plt\n",
    "import numpy as np\n",
    "import pandas as pd\n",
    "\n",
    "\n",
    "figsize = (5, 4)\n",
    "plt.rcParams['font.size'] = font\n",
    "plt.rcParams['font.family'] = fontfml\n",
    "\n",
    "# Create a colormap\n",
    "cmap = plt.cm.get_cmap('Blues_r')  # viridis,summer\n",
    "\n",
    "# Create an array of colors from the colormap\n",
    "colors = cmap(np.linspace(0, 1, len(df_ratio.columns)+1))\n",
    "\n",
    "# Plot the stacked bar chart with the colors\n",
    "ax = df_ratio.plot(kind='bar', stacked=True, color=colors,figsize=figsize,\n",
    "                   xlabel=r\"Incident angle [$\\degree$]\", ylabel=\"Absorption / reflection rate\")\n",
    "\n",
    "ax.legend(loc=\"upper right\",ncol=1, bbox_to_anchor=(1.35, 0.55),handlelength=1,fontsize=font-2)\n",
    "\n",
    "yticks = np.arange(0.1, 1+0.1, 0.1)\n",
    "#for i in range(len(yticks)):\n",
    "#    ax.axhline(yticks[i], color='gray', linestyle='--', linewidth=0.8)\n",
    "color='white'\n",
    "\n",
    "# Display the value on each bar\n",
    "i = 0 \n",
    "for p in ax.patches:\n",
    "    width, height = p.get_width(), p.get_height()\n",
    "    x, y = p.get_xy() \n",
    "    #print(x + width/2,y + height/2)\n",
    "    if i < 7:\n",
    "        ax.text(x + width/2, \n",
    "            y + height/2 + 0.05, \n",
    "            '{:.2f}'.format(height), \n",
    "            color=color,\n",
    "            ha='center', \n",
    "            va='center',\n",
    "            weight = 'bold',\n",
    "            fontsize=font-2,\n",
    "            family=fontfml)\n",
    "        i=i+1\n",
    "    else:\n",
    "        ax.text(x + width/2, \n",
    "            y + height+0.03, \n",
    "            '{:.2f}'.format(height),\n",
    "            #color=color,\n",
    "            ha='center', \n",
    "            va='center',\n",
    "            #weight = 'bold',\n",
    "            fontsize=font-1,\n",
    "            family=fontfml)\n",
    "ax.set_ylim(0,1.08)\n",
    "ax.text(6, 0.9, '(b)', fontsize=font,fontfamily=fontfml, weight='bold')\n",
    "fig_dir = './../../figure/'\n",
    "#ax.get_figure().savefig(fig_dir+'solarangle.png', dpi=300, bbox_inches='tight')\n",
    "plt.show()"
   ]
  },
  {
   "cell_type": "markdown",
   "id": "df861aac-293b-4592-a110-de16846adb98",
   "metadata": {},
   "source": [
    "### diffuse solar radiation"
   ]
  },
  {
   "cell_type": "code",
   "execution_count": 508,
   "id": "e0e3eae5-c525-48e7-a007-f8156e4ac820",
   "metadata": {},
   "outputs": [
    {
     "data": {
      "text/plain": [
       "1"
      ]
     },
     "execution_count": 508,
     "metadata": {},
     "output_type": "execute_result"
    }
   ],
   "source": [
    "rspath = \"./../SolarDepth/\"\n",
    "Fls = os.listdir(rspath)\n",
    "\n",
    "# all files.npy in the folder\n",
    "Fls = [s for s in Fls if s.endswith('SWresults_200layer_1000bundle_diffuse.npy')]\n",
    "len(Fls)"
   ]
  },
  {
   "cell_type": "code",
   "execution_count": 509,
   "id": "fdd4ec61-2e70-4ab7-a4eb-3eb2cb40f0a3",
   "metadata": {},
   "outputs": [
    {
     "name": "stdout",
     "output_type": "stream",
     "text": [
      "0.9299061326676726\n"
     ]
    }
   ],
   "source": [
    "# 2. extract all kinds of energy and save it as pandas\n",
    "# allocate a empty dataframe\n",
    "df2 = pd.DataFrame(columns=[\"F_bottom\",\"F_1stLayer\",\"F_body\",\"F_edge\",\"F_dw\"])\n",
    "for i in range(len(Fls)):\n",
    "    res = np.load(rspath+Fls[i], allow_pickle=True)\n",
    "    columns = [\"F_bottom\", \"F_1stLayer\", \"F_body\", \"F_edge\", \"F_dw\"]\n",
    "    values = calculateF(res, nu)\n",
    "    df2.loc[i, columns] = values\n",
    "\n",
    "# the refraction rate\n",
    "print(np.trapz(df2[\"F_dw\"][0][-1], nu)/ F_dw0)"
   ]
  },
  {
   "cell_type": "code",
   "execution_count": 510,
   "id": "8e105a3a-a063-45ab-9754-3aa85689a404",
   "metadata": {},
   "outputs": [
    {
     "data": {
      "text/html": [
       "<div>\n",
       "<style scoped>\n",
       "    .dataframe tbody tr th:only-of-type {\n",
       "        vertical-align: middle;\n",
       "    }\n",
       "\n",
       "    .dataframe tbody tr th {\n",
       "        vertical-align: top;\n",
       "    }\n",
       "\n",
       "    .dataframe thead th {\n",
       "        text-align: right;\n",
       "    }\n",
       "</style>\n",
       "<table border=\"1\" class=\"dataframe\">\n",
       "  <thead>\n",
       "    <tr style=\"text-align: right;\">\n",
       "      <th></th>\n",
       "      <th>F_bottom</th>\n",
       "      <th>F_1stLayer</th>\n",
       "      <th>F_body</th>\n",
       "      <th>F_edge</th>\n",
       "      <th>F_inE</th>\n",
       "    </tr>\n",
       "  </thead>\n",
       "  <tbody>\n",
       "    <tr>\n",
       "      <th>0</th>\n",
       "      <td>51.369501</td>\n",
       "      <td>37.588876</td>\n",
       "      <td>71.070715</td>\n",
       "      <td>6.135443</td>\n",
       "      <td>167.415245</td>\n",
       "    </tr>\n",
       "  </tbody>\n",
       "</table>\n",
       "</div>"
      ],
      "text/plain": [
       "    F_bottom  F_1stLayer     F_body    F_edge       F_inE\n",
       "0  51.369501   37.588876  71.070715  6.135443  167.415245"
      ]
     },
     "execution_count": 510,
     "metadata": {},
     "output_type": "execute_result"
    }
   ],
   "source": [
    "df2[\"F_inE\"]=df2[\"F_dw\"].apply(lambda x:np.sum(x[-1,:]))\n",
    "df_sum = df2.applymap(np.sum)\n",
    "df_sum.drop(df_sum.columns[-2],axis=1, inplace=True)\n",
    "df_sum"
   ]
  },
  {
   "cell_type": "code",
   "execution_count": 511,
   "id": "66d15473-2149-4d9a-9f69-218dd581e251",
   "metadata": {},
   "outputs": [
    {
     "data": {
      "text/html": [
       "<div>\n",
       "<style scoped>\n",
       "    .dataframe tbody tr th:only-of-type {\n",
       "        vertical-align: middle;\n",
       "    }\n",
       "\n",
       "    .dataframe tbody tr th {\n",
       "        vertical-align: top;\n",
       "    }\n",
       "\n",
       "    .dataframe thead th {\n",
       "        text-align: right;\n",
       "    }\n",
       "</style>\n",
       "<table border=\"1\" class=\"dataframe\">\n",
       "  <thead>\n",
       "    <tr style=\"text-align: right;\">\n",
       "      <th></th>\n",
       "      <th>F_bottom_sum</th>\n",
       "      <th>F_edge_sum</th>\n",
       "      <th>F_body_sum</th>\n",
       "      <th>F_1stLayer_sum</th>\n",
       "      <th>Reflectino rate</th>\n",
       "    </tr>\n",
       "  </thead>\n",
       "  <tbody>\n",
       "    <tr>\n",
       "      <th>0</th>\n",
       "      <td>0.28534</td>\n",
       "      <td>0.03408</td>\n",
       "      <td>0.394774</td>\n",
       "      <td>0.208794</td>\n",
       "      <td>0.070065</td>\n",
       "    </tr>\n",
       "  </tbody>\n",
       "</table>\n",
       "</div>"
      ],
      "text/plain": [
       "   F_bottom_sum  F_edge_sum  F_body_sum  F_1stLayer_sum  Reflectino rate\n",
       "0       0.28534     0.03408    0.394774        0.208794         0.070065"
      ]
     },
     "execution_count": 511,
     "metadata": {},
     "output_type": "execute_result"
    }
   ],
   "source": [
    "# For renaming columns to reflect they have been summed\n",
    "#df_sum = df2.applymap(np.sum)\n",
    "df_sum.columns = [f'{col}_sum' for col in df_sum.columns]\n",
    "total = F_dw0/5\n",
    "defus_ratio = df_sum.div(total,axis=0)\n",
    "defus_ratio['Reflectino rate'] = 1-defus_ratio['F_inE_sum']\n",
    "defus_ratio.drop(defus_ratio.columns[-2],axis=1, inplace=True)\n",
    "defus_ratio = defus_ratio[['F_bottom_sum','F_edge_sum','F_body_sum','F_1stLayer_sum','Reflectino rate']]\n",
    "defus_ratio"
   ]
  },
  {
   "cell_type": "code",
   "execution_count": 512,
   "id": "8d4f8542-6094-470d-a5a8-27ef2e87f0e0",
   "metadata": {},
   "outputs": [
    {
     "data": {
      "text/html": [
       "<div>\n",
       "<style scoped>\n",
       "    .dataframe tbody tr th:only-of-type {\n",
       "        vertical-align: middle;\n",
       "    }\n",
       "\n",
       "    .dataframe tbody tr th {\n",
       "        vertical-align: top;\n",
       "    }\n",
       "\n",
       "    .dataframe thead th {\n",
       "        text-align: right;\n",
       "    }\n",
       "</style>\n",
       "<table border=\"1\" class=\"dataframe\">\n",
       "  <thead>\n",
       "    <tr style=\"text-align: right;\">\n",
       "      <th></th>\n",
       "      <th>Bottom</th>\n",
       "      <th>Sides</th>\n",
       "      <th>Body</th>\n",
       "      <th>Surface</th>\n",
       "      <th>Reflected</th>\n",
       "    </tr>\n",
       "  </thead>\n",
       "  <tbody>\n",
       "    <tr>\n",
       "      <th>diffuse</th>\n",
       "      <td>0.28534</td>\n",
       "      <td>0.03408</td>\n",
       "      <td>0.394774</td>\n",
       "      <td>0.208794</td>\n",
       "      <td>0.070065</td>\n",
       "    </tr>\n",
       "  </tbody>\n",
       "</table>\n",
       "</div>"
      ],
      "text/plain": [
       "          Bottom    Sides      Body   Surface  Reflected\n",
       "diffuse  0.28534  0.03408  0.394774  0.208794   0.070065"
      ]
     },
     "execution_count": 512,
     "metadata": {},
     "output_type": "execute_result"
    }
   ],
   "source": [
    "defus_ratio.columns = ['Bottom', 'Sides', 'Body', 'Surface','Reflected']\n",
    "defus_ratio.index = ['diffuse'] * len(defus_ratio)\n",
    "\n",
    "defus_ratio"
   ]
  },
  {
   "cell_type": "code",
   "execution_count": 513,
   "id": "ebf19895-efb0-4fcf-adbc-403029423f31",
   "metadata": {},
   "outputs": [
    {
     "data": {
      "text/plain": [
       "0.9930527290156715"
      ]
     },
     "execution_count": 513,
     "metadata": {},
     "output_type": "execute_result"
    }
   ],
   "source": [
    "np.sum(defus_ratio.values)"
   ]
  },
  {
   "cell_type": "code",
   "execution_count": 568,
   "id": "7d7604ee-1f8b-4ad7-9675-31d272816613",
   "metadata": {},
   "outputs": [],
   "source": [
    "df_new=pd.concat([df_ratio,defus_ratio])\n",
    "df_new = df_new.reindex([0,15,30,45,60,'diffuse', 75,85])\n",
    "df_new['Surface']=np.floor(df_new['Surface'].values*100)/100\n",
    "df_new.at[df_new.index[-1], 'Sides']=0.03\n",
    "df_new"
   ]
  },
  {
   "cell_type": "code",
   "execution_count": 570,
   "id": "42ef344e-e4fd-49f0-8390-21c85ce71991",
   "metadata": {},
   "outputs": [
    {
     "data": {
      "image/png": "[encoded data removed]",
      "text/plain": [
       "<Figure size 600x400 with 1 Axes>"
      ]
     },
     "metadata": {},
     "output_type": "display_data"
    }
   ],
   "source": [
    "font = 15\n",
    "fontfml = 'Times New Roman'\n",
    "plt.rcParams['mathtext.fontset']='custom'\n",
    "plt.rcParams['mathtext.rm'] =fontfml\n",
    "plt.rcParams['mathtext.it'] = 'Times New Roman:italic'\n",
    "plt.rcParams['mathtext.bf'] = 'Times New Roman:bold'\n",
    "\n",
    "plt.rcParams['font.size'] = font\n",
    "plt.rcParams['font.family'] = fontfml\n",
    "\n",
    "# Create a colormap\n",
    "figsize = (6, 4)\n",
    "cmap = plt.cm.get_cmap('Blues_r')  # viridis,summer\n",
    "# Create an array of colors from the colormap\n",
    "colors = cmap(np.linspace(0, 1, len(df_new.columns)+1))\n",
    "new_colors = np.vstack([colors, rgba_color])\n",
    "# Plot the stacked bar chart with the colors\n",
    "ax = df_new.plot(kind='bar', stacked=True, color=new_colors, figsize=figsize,\n",
    "                 width=0.55,\n",
    "                 xlabel=r\"Incident angle [$\\degree$]\", ylabel=\"Absorption / reflection rate\")\n",
    "yticks = np.arange(0.1, 1+0.1, 0.1)\n",
    "#for i in range(len(yticks)):\n",
    "#    ax.axhline(yticks[i], color='gray', linestyle='--', linewidth=0.8)\n",
    "color='white'\n",
    "\n",
    "# Display the value on each bar\n",
    "i = 0 \n",
    "for p in ax.patches:\n",
    "    width, height = p.get_width(), p.get_height()\n",
    "    x, y = p.get_xy() \n",
    "    #print(x + width/2,y + height/2)\n",
    "    if i < 8:\n",
    "        ax.text(x + width/2, \n",
    "            y + height/2 + 0.01, \n",
    "            '{:.2f}'.format(height), \n",
    "            color=color,\n",
    "            ha='center', \n",
    "            va='center',\n",
    "            weight = 'bold',\n",
    "            fontsize=font-2,\n",
    "            family=fontfml)\n",
    "        i=i+1\n",
    "    elif 27 < i< 32:\n",
    "        ax.text(x + width/2, \n",
    "            y+height+0.03, \n",
    "            '{:.2f}'.format(height),\n",
    "            #color=ref_color,\n",
    "            ha='center', \n",
    "            va='center',\n",
    "            weight = 'bold',\n",
    "            fontsize=font-2,\n",
    "            family=fontfml)\n",
    "        i=i+1\n",
    "    elif 32 <= i:\n",
    "        ax.text(x + width/2, 1.08, \n",
    "            '{:.3f}'.format(height),\n",
    "            #color=\"C2\",\n",
    "            ha='center', \n",
    "            va='center',\n",
    "            #weight = 'bold',\n",
    "            fontsize=font-2,\n",
    "            family=fontfml)\n",
    "        i=i+1\n",
    "    else:\n",
    "        ax.text(x + width/2, \n",
    "            y + height+0.03, \n",
    "            '{:.2f}'.format(height),\n",
    "            #color=color,\n",
    "            ha='center', \n",
    "            va='center',\n",
    "            weight = 'bold',\n",
    "            fontsize=font-2,\n",
    "            family=fontfml)\n",
    "        i=i+1\n",
    "#ax.set_xlabel(r\"Incident angle [$\\degree$]\",fontsize=font,family=fontfml)\n",
    "ax.set_xticklabels([0,15,30,45,60,'diffuse',75,85], rotation = 0)\n",
    "#ax.set_xticks(rotation = 0)\n",
    "ax.set_ylim(0,1.12)\n",
    "ax.text(7, 0.9, '(b)', fontsize=font+1,fontfamily=fontfml, weight='bold')\n",
    "ax.legend(loc=\"upper right\", ncol=5, bbox_to_anchor=(1.05, 1.15), \n",
    "          columnspacing=0.9,handletextpad=0.3,edgecolor='none',\n",
    "          handlelength=1,fontsize=font-1)\n",
    "fig_dir = './../../figure/'\n",
    "ax.get_figure().savefig(fig_dir+'solarangle.png', dpi=300, bbox_inches='tight')\n",
    "plt.show()"
   ]
  },
  {
   "cell_type": "code",
   "execution_count": null,
   "id": "ea8259b0-d6f8-467a-9ccc-e0042b0f1e66",
   "metadata": {},
   "outputs": [],
   "source": []
  }
 ],
 "metadata": {
  "kernelspec": {
   "display_name": "python37",
   "language": "python",
   "name": "python37"
  },
  "language_info": {
   "codemirror_mode": {
    "name": "ipython",
    "version": 3
   },
   "file_extension": ".py",
   "mimetype": "text/x-python",
   "name": "python",
   "nbconvert_exporter": "python",
   "pygments_lexer": "ipython3",
   "version": "3.10.11"
  }
 },
 "nbformat": 4,
 "nbformat_minor": 5
}
