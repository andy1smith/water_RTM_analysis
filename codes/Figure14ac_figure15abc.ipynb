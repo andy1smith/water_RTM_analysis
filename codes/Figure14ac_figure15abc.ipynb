{
 "cells": [
  {
   "cell_type": "code",
   "execution_count": 84,
   "id": "93b8570d-878b-44fc-b32c-8b19ec309cc5",
   "metadata": {},
   "outputs": [],
   "source": [
    "import time\n",
    "import numpy as np\n",
    "\n",
    "import math\n",
    "import matplotlib.pyplot as plt\n",
    "from multiprocessing import Pool\n",
    "import random\n",
    "import timeit\n",
    "import copy\n",
    "import pandas as pd\n",
    "import warnings\n",
    "import scipy.integrate as integrate\n",
    "warnings.filterwarnings('ignore')\n",
    "import sys,os\n",
    "sys.path.append(os.path.abspath(\"../\"))\n",
    "from LBL_funcs_waterRTM import *\n",
    "import re\n",
    "from sklearn.metrics import r2_score, mean_absolute_percentage_error, mean_squared_error\n",
    "from scipy.special import erf"
   ]
  },
  {
   "cell_type": "markdown",
   "id": "cd5005d4-e142-40cd-a618-399ed8a93aac",
   "metadata": {},
   "source": [
    "## the blackbody"
   ]
  },
  {
   "cell_type": "code",
   "execution_count": 3,
   "id": "0bcf1520-57c9-44a4-ba39-678580b7158b",
   "metadata": {
    "tags": []
   },
   "outputs": [
    {
     "name": "stdout",
     "output_type": "stream",
     "text": [
      "[ 300  800 1300 1800 2300 2800 3300 3800 4300 4800 5300 5800]\n"
     ]
    }
   ],
   "source": [
    "import scipy.integrate as integrate\n",
    "\n",
    "dnu = 5 # spectral resolutio\n",
    "nu = np.arange(0, 33333+dnu,dnu)  # cm-1\n",
    "nu1 = np.arange(0, 33333+dnu,dnu)  # cm-1\n",
    "nu = np.delete(nu, 0)\n",
    "nu = np.insert(nu,0,1)\n",
    "nu1 = np.delete(nu1, 0)\n",
    "nu1 = np.insert(nu1,0,1)\n",
    "# wavelength [um]\n",
    "# a = 1/nu*1e4  # cm-1 -> um\n",
    "# lam = a[::-1]  # um\n",
    "# generate x-axis in increments from 1nm to 3 micrometer in 1 nm increments\n",
    "# starting at 1 nm to avoid wav = 0, which would result in division by zero.\n",
    "wavelengths = np.arange(1e-9, 10e-6, 1e-9) * 1e6\n",
    "\n",
    "T = np.arange(800,5800+500,500)  # K\n",
    "T = np.append(300,T)\n",
    "\n",
    "F_dw_os = np.zeros([T.shape[0], nu.shape[0]])\n",
    "Intens = np.zeros(T.shape[0])\n",
    "\n",
    "for tt in range(T.shape[0]):\n",
    "    # wave number\n",
    "    F_dw_os[tt] = Planck(nu,T[tt])*math.pi\n",
    "    #F_dw[tt] = Planck_lam(wavelengths,T[tt])#*math.pi\n",
    "    #Intens[tt] = integrate.trapz(F_dw[tt], wavelengths)\n",
    "    Intens[tt] = integrate.trapz(F_dw_os[tt], nu)\n",
    "# the energy on TOW is F_dw_os, and the total is Intens\n",
    "print(T)"
   ]
  },
  {
   "cell_type": "code",
   "execution_count": 4,
   "id": "688628b9-e18f-4f04-8f37-5864e2d3cdc4",
   "metadata": {},
   "outputs": [
    {
     "name": "stdout",
     "output_type": "stream",
     "text": [
      "10000\n",
      "lamb=0.0001\n"
     ]
    }
   ],
   "source": [
    "p_nu=2000\n",
    "n = nu[p_nu]\n",
    "print(n)\n",
    "print(f'lamb={1/n}')"
   ]
  },
  {
   "cell_type": "markdown",
   "id": "e34cf747-40bf-4020-9c14-8d50c29b8d65",
   "metadata": {},
   "source": [
    "## extract file"
   ]
  },
  {
   "cell_type": "code",
   "execution_count": 5,
   "id": "43b29025-056c-479f-b576-4145e41d3a3e",
   "metadata": {},
   "outputs": [
    {
     "data": {
      "text/plain": [
       "160"
      ]
     },
     "execution_count": 5,
     "metadata": {},
     "output_type": "execute_result"
    }
   ],
   "source": [
    "def calculateF(res,nu1,lamb,p_nu):\n",
    "    # lamb = piece-wise\n",
    "    # lamb=1 wavelength > 10000\n",
    "    # lamb=0 wavelength ≤ 10000\n",
    "    if lamb == 1:\n",
    "        nu = nu1[:p_nu]\n",
    "        items1 = ['F_n_abs', 'F_n_abs_rights','F_n_abs_leftn','F_n_abs_fronte','F_n_abs_backw']\n",
    "        F_total = 0\n",
    "        for item in items1:\n",
    "            temp = res.item().get(item)\n",
    "            F_i = integrate.trapz(temp[:,:p_nu], nu, axis=1)\n",
    "            F_total += np.sum(F_i)\n",
    "    if lamb == 0:\n",
    "        nu = nu1[p_nu:]\n",
    "        items1 = ['F_n_abs', 'F_n_abs_rights','F_n_abs_leftn','F_n_abs_fronte','F_n_abs_backw']\n",
    "        F_total = 0\n",
    "        for item in items1:\n",
    "            temp = res.item().get(item)\n",
    "            F_i = integrate.trapz(temp[:,p_nu:], nu, axis=1)\n",
    "            F_total += np.sum(F_i)\n",
    "    F_gas = res.item().get('F_n_abs')\n",
    "    N_layer = F_gas.shape[0]\n",
    "    F_1stLayer = res.item().get(\"F_n_abs\")[-2]\n",
    "    F_body = res.item().get(\"F_n_abs\")[1:-2]\n",
    "    F_edge = res.item().get('F_n_abs_rights') + res.item().get('F_n_abs_leftn') \\\n",
    "             + res.item().get('F_n_abs_fronte') + res.item().get('F_n_abs_backw')\n",
    "    F_bottom= res.item().get('F_n_abs')[0]\n",
    "    F_dw = res.item().get('F_n_dw')\n",
    "    F_uw = res.item().get('F_n_uw')\n",
    "    if lamb == 1:\n",
    "        return F_total, F_bottom[:p_nu], F_1stLayer[:p_nu], F_body[:,:p_nu],\\\n",
    "               F_edge[:,:p_nu] #F_dw[:,:p_nu], F_uw[:,:p_nu]\n",
    "    if lamb == 0:\n",
    "        return F_total, F_bottom[p_nu:], F_1stLayer[p_nu:], F_body[:,p_nu:],\\\n",
    "               F_edge[:,p_nu:] # F_dw[:,p_nu:], F_uw[:,p_nu:]\n",
    "    \n",
    "def check_convergence(y, mean):\n",
    "    diff = [np.nan]\n",
    "    for i in range(1, len(y)):\n",
    "        dy = abs(y[i] - y[i-1])\n",
    "        diff.append(1-dy/mean*100)\n",
    "    return diff\n",
    "\n",
    "depth = 0.5\n",
    "width = 20\n",
    "long = 20\n",
    "#path = \"./randangle/\"\n",
    "path = './Tdepth/'\n",
    "Fls = os.listdir(path) #+ os.listdir(path2)\n",
    "\n",
    "dnu = 5 # spectral resolutio\n",
    "nu = np.arange(0, 33333+dnu,dnu)  # cm-1\n",
    "nu = np.delete(nu,0)\n",
    "nu = np.insert(nu,0,1)\n",
    "\n",
    "# all files.npy in the folder\n",
    "Fls = [s for s in Fls if s.endswith('.npy')]\n",
    "len(Fls)"
   ]
  },
  {
   "cell_type": "code",
   "execution_count": 6,
   "id": "b35abc9f-f362-4036-8b89-6773617a817c",
   "metadata": {},
   "outputs": [
    {
     "name": "stdout",
     "output_type": "stream",
     "text": [
      "(6668,)\n"
     ]
    }
   ],
   "source": [
    "import re\n",
    "layers = []\n",
    "Temp = []\n",
    "for string in Fls:\n",
    "    #match = re.search(r'_([\\d.]+)layer', string)\n",
    "    match = re.search(r'_([\\d.]+)layer', string)\n",
    "    if match:\n",
    "        number = int(match.group(1))\n",
    "        layers.append(number)\n",
    "    match = re.search(r'([\\d.]+)_results', string)\n",
    "    if match:\n",
    "        Temp.append(int(match.group(1)))\n",
    "df1 = pd.DataFrame({\"Temp\":Temp,\"layer\":layers})\n",
    "print(nu.shape)\n",
    "df1['F_dw'] = df1.apply(lambda row:Planck(nu,row['Temp'])*math.pi, axis=1)"
   ]
  },
  {
   "cell_type": "code",
   "execution_count": 7,
   "id": "daf06609-92b3-409d-b04b-bb2ac334a411",
   "metadata": {},
   "outputs": [
    {
     "data": {
      "text/plain": [
       "(6668,)"
      ]
     },
     "execution_count": 7,
     "metadata": {},
     "output_type": "execute_result"
    }
   ],
   "source": [
    "df1['F_dw'][0].shape"
   ]
  },
  {
   "cell_type": "code",
   "execution_count": 8,
   "id": "8bcff648-3d6c-43da-9ea1-e486b845b886",
   "metadata": {},
   "outputs": [],
   "source": [
    "lamb = 1\n",
    "# 2. extract all kinds of energy and save it as pandas\n",
    "# allocate a empty dataframe\n",
    "df2 = pd.DataFrame(columns=[\"F_total\",\"F_bottom\",\"F_1stLayer\",\"F_body\",\"F_edge\"])#,\"F_dw\",\"F_uw\"])\n",
    "for i in range(len(Fls)):\n",
    "    try:\n",
    "        res = np.load(path+Fls[i], allow_pickle=True)\n",
    "    except:\n",
    "        res = np.load(path2+Fls[i], allow_pickle=True)\n",
    "    columns = [\"F_total\", \"F_bottom\", \"F_1stLayer\", \"F_body\", \"F_edge\"]# \"F_dw\", \"F_uw\"]\n",
    "    values = calculateF(res, nu, lamb, p_nu)\n",
    "    df2.loc[i, columns] = values\n",
    "df = pd.concat([df1, df2], axis=1)\n",
    "del df1, df2\n",
    "\n",
    "if lamb == 1:\n",
    "    nu = nu[:p_nu]\n",
    "else:\n",
    "    nu = nu[p_nu:]\n",
    "#df = dataf.sort_values(by='Temp')"
   ]
  },
  {
   "cell_type": "code",
   "execution_count": 9,
   "id": "9d663deb-16b1-428e-b2c9-7d66b6abd0ca",
   "metadata": {},
   "outputs": [
    {
     "data": {
      "text/plain": [
       "(6668,)"
      ]
     },
     "execution_count": 9,
     "metadata": {},
     "output_type": "execute_result"
    }
   ],
   "source": [
    "df.iloc[0]['F_dw'].shape"
   ]
  },
  {
   "cell_type": "markdown",
   "id": "bad20062-1241-4c77-ae4e-188e2d4426cc",
   "metadata": {
    "tags": []
   },
   "source": [
    "### import coeff"
   ]
  },
  {
   "cell_type": "code",
   "execution_count": 10,
   "id": "48c70848-bff0-4a7c-b97e-62dec55b68bd",
   "metadata": {},
   "outputs": [],
   "source": [
    "# the energy on TOW is F_dw_os, and the total is Intens\n",
    "import scipy.integrate as integrate\n",
    "temp1 = df['F_body'].apply(lambda x:integrate.trapz(x,nu,axis=1))\n",
    "\n",
    "#temp2 = df['F_dw'].apply(lambda x:integrate.trapz(x[-1],nu)).values  # the transmitted energy!\n",
    "dnu = 5 # spectral resolutio\n",
    "nuii = np.arange(0, 33333+dnu,dnu)\n",
    "nuii = np.delete(nuii,0)\n",
    "nuii = np.insert(nuii,0,1)\n",
    "\n",
    "temp2 = df['F_dw'].apply(lambda x:integrate.trapz(x,nuii)).values\n",
    "\n",
    "temp3 = df['F_1stLayer'].apply(lambda x: integrate.trapz(x,nu)).values/temp2\n",
    "df['body']=temp1/temp2\n",
    "\n",
    "for i in range (len(temp3)):\n",
    "    temp =np.append(df['body'][i],temp3[i])\n",
    "    df['body'][i]=temp  ## since then df['body'] includes the first layer"
   ]
  },
  {
   "cell_type": "code",
   "execution_count": 11,
   "id": "a74fa767-5028-4453-9b9f-1c2fc60abb3a",
   "metadata": {},
   "outputs": [],
   "source": [
    "df =df.sort_values(by='Temp')\n",
    "# body's depth\n",
    "df['z'] = df['layer'].apply(lambda x: np.linspace(1,x,x)) \n",
    "df['int_abs'] = df['body'].apply(lambda x: np.cumsum(x[::-1]))  "
   ]
  },
  {
   "cell_type": "markdown",
   "id": "d0e50f89-b163-4524-b20d-f4ab01b5eba9",
   "metadata": {},
   "source": [
    "# Piecewise"
   ]
  },
  {
   "cell_type": "code",
   "execution_count": 12,
   "id": "0fb23a38-bbdf-48ce-897f-548e70185fbd",
   "metadata": {
    "tags": []
   },
   "outputs": [],
   "source": [
    "import numpy as np\n",
    "from scipy.optimize import curve_fit, differential_evolution"
   ]
  },
  {
   "cell_type": "markdown",
   "id": "c534f254-0743-4402-87a9-f9d49b02fd41",
   "metadata": {},
   "source": [
    "## collect c1,c2,c2"
   ]
  },
  {
   "cell_type": "code",
   "execution_count": 13,
   "id": "ea76c9d0-b336-4e41-b6ab-8927bfa1b4f0",
   "metadata": {},
   "outputs": [
    {
     "data": {
      "text/plain": [
       "array([1300, 1800, 2300, 2800, 3300, 3800, 4300, 4800, 5300, 5800])"
      ]
     },
     "execution_count": 13,
     "metadata": {},
     "output_type": "execute_result"
    }
   ],
   "source": [
    "def sort_indices(x0,y0):\n",
    "    sort_indices = np.argsort(y0)\n",
    "    x_sorted = x0[sort_indices]\n",
    "    y_sorted = y0[sort_indices]\n",
    "    return x_sorted,y_sorted\n",
    "# for the target specturm, when depth > 50cm, \n",
    "# all the absorption rate equals to 1, \n",
    "# there is no need for plot them out.\n",
    "cd=0.5 # 50 cm\n",
    "T[2:]"
   ]
  },
  {
   "cell_type": "code",
   "execution_count": 14,
   "id": "c7e76bee-c9ce-4fba-81c1-5695b0ad969c",
   "metadata": {},
   "outputs": [
    {
     "name": "stdout",
     "output_type": "stream",
     "text": [
      "Mean R2:0.9844487716967367\n"
     ]
    },
    {
     "data": {
      "image/png": "[encoded data removed]",
      "text/plain": [
       "<Figure size 800x400 with 1 Axes>"
      ]
     },
     "metadata": {},
     "output_type": "display_data"
    }
   ],
   "source": [
    "C1 = []\n",
    "C2 = []\n",
    "C3 = []\n",
    "C4 = []\n",
    "C5 = []\n",
    "Tf = []\n",
    "\n",
    "def func(x, c1,c2,c3):\n",
    "    return 1-np.exp(-c1*x+c2)+c3 # 0.99, \n",
    "TR2 = []\n",
    "\n",
    "fig, axs = plt.subplots(1,1,figsize=(8,4))\n",
    "i=0\n",
    "for tttt in T[4:]:\n",
    "    df5800 = df[df['Temp']==tttt]\n",
    "    df5800 = df5800.sort_values(by='layer')\n",
    "    for index, row in df5800.iterrows():\n",
    "        z = row['z']\n",
    "        x = z/100 #*row['k_ave']/1e4\n",
    "        y = row['int_abs']\n",
    "        # No absorption when x=0\n",
    "        if row['layer']==30:\n",
    "            x_r = x[:-3]\n",
    "            y_r = y[:-3]\n",
    "        #x = np.insert(x, 0, 0)\n",
    "        #y = np.insert(y, 0, 0)\n",
    "        x_r = np.concatenate((x_r,x))\n",
    "        y_r = np.concatenate((y_r,y))\n",
    "\n",
    "    y_r1 = y_r[x_r<=cd]\n",
    "    x_r1 = x_r[x_r<=cd]\n",
    "    #y_r1 = y_r\n",
    "    #x_r1 = x_r\n",
    "\n",
    "    initial_guess = [0,0,0]\n",
    "    params, params_covariance = curve_fit(func, x_r1, y_r1, p0=initial_guess,maxfev=8000)\n",
    "    c1,c2,c3 = params\n",
    "    y1 = func(x_r1,c1,c2,c3)\n",
    "    # ------ plot -------- # \n",
    "    axs.scatter(x_r1,y_r1,s=1,color=f'C{i}',label=f'{tttt}K')\n",
    "    x_i,y0 = sort_indices(x_r1,y1)\n",
    "    axs.plot(x_i,y0,alpha=0.3,color='C9',linewidth=0.8)\n",
    "    plt.xlabel('optical depth')\n",
    "\n",
    "    i = i+1\n",
    "\n",
    "    temp = r2_score(y1, y_r1)\n",
    "    #print(\"R2\",temp)\n",
    "    TR2.append(temp)\n",
    "\n",
    "    # print(\"T=\", tttt)\n",
    "    # print(\"Fitted c1 = \", c1)\n",
    "    # print(\"Fitted c2 = \", c2)\n",
    "    # print(\"Fitted c3 = \", c3)\n",
    "    # print(\"Fitted c4 = \", c4)\n",
    "    #Piece.append(j+1)\n",
    "    Tf.append(tttt)\n",
    "    C1.append(c1)\n",
    "    C2.append(c2)\n",
    "    C3.append(c3)\n",
    "\n",
    "#print(f'Piece {j}:')\n",
    "print('Mean R2:'+ f'{np.mean(np.array(TR2))}')\n",
    "plt.legend(ncol=2)\n",
    "plt.show()"
   ]
  },
  {
   "cell_type": "code",
   "execution_count": 15,
   "id": "ca52387c-a09f-4b96-ac67-11f2a478fec3",
   "metadata": {},
   "outputs": [
    {
     "name": "stdout",
     "output_type": "stream",
     "text": [
      "Tf= [2300, 2800, 3300, 3800, 4300, 4800, 5300, 5800]\n",
      "C1:  36.07476, 34.08949, 32.90929, 32.14040, 31.60615, 31.21674, 30.92190, 30.60866\n",
      "C2:  -2.2719, -2.0787, -2.0405, -2.0823, -2.1659, -2.2703, -2.3834, -2.5018\n",
      "C3:  -0.1726, -0.2747, -0.3805, -0.4772, -0.5601, -0.6286, -0.6842, -0.7294\n"
     ]
    }
   ],
   "source": [
    "print('Tf=',Tf)\n",
    "print('C1:  '+', '.join('{:.5f}'.format(value) for value in C1))\n",
    "print('C2:  '+', '.join('{:.4f}'.format(value) for value in C2))\n",
    "print('C3:  '+', '.join('{:.4f}'.format(value) for value in C3))\n",
    "#print('C4:  '+', '.join('{:.4f}'.format(value) for value in C4))\n",
    "#print('C5:  '+', '.join('{:.4f}'.format(value) for value in C5))\n",
    "\n",
    "Tf = np.array(Tf)\n",
    "C1 = np.array(C1)\n",
    "C2 = np.array(C2)\n",
    "C3 = np.array(C3)\n",
    "#print('C1=',C1)\n",
    "#print('C2=',C2)"
   ]
  },
  {
   "cell_type": "markdown",
   "id": "2ab18157-d2ac-461c-84dc-9cce48b096d1",
   "metadata": {
    "tags": []
   },
   "source": [
    "### fit c1,c2,c2 and T"
   ]
  },
  {
   "cell_type": "code",
   "execution_count": 16,
   "id": "d608fbee-efa8-486e-aeec-e11bc67826c9",
   "metadata": {},
   "outputs": [
    {
     "data": {
      "image/png": "[encoded data removed]",
      "text/plain": [
       "<Figure size 640x480 with 1 Axes>"
      ]
     },
     "metadata": {},
     "output_type": "display_data"
    }
   ],
   "source": [
    "plt.scatter(Tf,C1,label=r\"$\\mathrm{C}_1$\")\n",
    "plt.scatter(Tf,C2,label=\"$\\mathrm{C}_2$\")\n",
    "plt.scatter(Tf,C3,label=\"$\\mathrm{C}_3$\")\n",
    "plt.legend()\n",
    "plt.show()"
   ]
  },
  {
   "cell_type": "markdown",
   "id": "128bce04-a7f9-464d-8d28-40964c835bb2",
   "metadata": {
    "tags": []
   },
   "source": [
    "###  $C1 = a1*T^2+b1*T+c1$"
   ]
  },
  {
   "cell_type": "code",
   "execution_count": 17,
   "id": "57f9ca3e-3795-4fcd-923d-4d85a17429df",
   "metadata": {},
   "outputs": [
    {
     "name": "stdout",
     "output_type": "stream",
     "text": [
      "Fitted a1 =  49.24889953841346\n",
      "Fitted b1 =  -54.1088988913657\n",
      "Fitted b1 =  45.635586206484646\n",
      "49.24890*x**2+-54.10890*x+45.63559\n"
     ]
    }
   ],
   "source": [
    "import numpy as np\n",
    "from scipy.optimize import curve_fit, differential_evolution\n",
    "\n",
    "def func(x, a,b,c):\n",
    "    return a*x**2+b*x+c\n",
    "\n",
    "# provide initial guess\n",
    "initial_guess = [1,1,1]\n",
    "\n",
    "# perform the curve fit\n",
    "params, params_covariance = curve_fit(func, np.array(Tf)/1e4, C1, p0=initial_guess,maxfev=100000)\n",
    "\n",
    "# params[0] will contain the fitted value of A, params[1] the value of B\n",
    "a1,b1,c1 = params\n",
    "\n",
    "print(\"Fitted a1 = \", a1)\n",
    "print(\"Fitted b1 = \", b1)\n",
    "print(\"Fitted b1 = \", c1)\n",
    "print(\"{:.5f}*x**2+{:.5f}*x+{:.5f}\".format(a1,b1,c1))"
   ]
  },
  {
   "cell_type": "markdown",
   "id": "4cf90b8e-f4de-4db3-b325-c7359c6d1670",
   "metadata": {
    "tags": []
   },
   "source": [
    "###  $C2 = a2*T^2+b2*T+c2$"
   ]
  },
  {
   "cell_type": "code",
   "execution_count": 18,
   "id": "cc712223-29e2-479d-b43f-0d64cdae5d01",
   "metadata": {},
   "outputs": [
    {
     "name": "stdout",
     "output_type": "stream",
     "text": [
      "Fitted a2 =  -8.821575985312032\n",
      "Fitted b2 =  6.2156198599856705\n",
      "Fitted c2 =  -3.1789339669674836\n",
      "-8.82158*x**2+6.21562*x+-3.17893\n"
     ]
    }
   ],
   "source": [
    "import numpy as np\n",
    "from scipy.optimize import curve_fit, differential_evolution\n",
    "\n",
    "def func(x, a,b,c):\n",
    "    #return c\n",
    "    return a*x**2+b*x+c\n",
    "\n",
    "# provide initial guess\n",
    "initial_guess = [0,0,-1]\n",
    "\n",
    "# perform the curve fit\n",
    "params, params_covariance = curve_fit(func, np.array(Tf)/1e4, C2, p0=initial_guess,maxfev=100000)\n",
    "\n",
    "# params[0] will contain the fitted value of A, params[1] the value of B\n",
    "a2,b2,c2 = params\n",
    "\n",
    "print(\"Fitted a2 = \", a2)\n",
    "print(\"Fitted b2 = \", b2)\n",
    "print(\"Fitted c2 = \", c2)\n",
    "print(\"{:.5f}*x**2+{:.5f}*x+{:.5f}\".format(a2,b2,c2))"
   ]
  },
  {
   "cell_type": "code",
   "execution_count": 19,
   "id": "7781f773-4efb-4b14-8609-956ea585d846",
   "metadata": {},
   "outputs": [
    {
     "name": "stdout",
     "output_type": "stream",
     "text": [
      "Fitted a3 =  2.239662301115399\n",
      "Fitted b3 =  -3.4265341427316582\n",
      "Fitted c3 =  0.502583393166754\n",
      "2.23966*x**2+-3.42653*x+0.50258\n"
     ]
    }
   ],
   "source": [
    "import numpy as np\n",
    "from scipy.optimize import curve_fit, differential_evolution\n",
    "\n",
    "def func(x, a,b,c):\n",
    "    return a*x**2+b*x+c\n",
    "\n",
    "# provide initial guess\n",
    "initial_guess = [0,0,0]\n",
    "\n",
    "# perform the curve fit\n",
    "params, params_covariance = curve_fit(func, np.array(Tf)/1e4, C3, p0=initial_guess,maxfev=100000)\n",
    "\n",
    "# params[0] will contain the fitted value of A, params[1] the value of B\n",
    "a3,b3,c3 = params\n",
    "\n",
    "print(\"Fitted a3 = \", a3)\n",
    "print(\"Fitted b3 = \", b3)\n",
    "print(\"Fitted c3 = \", c3)\n",
    "print(\"{:.5f}*x**2+{:.5f}*x+{:.5f}\".format(a3,b3,c3))"
   ]
  },
  {
   "cell_type": "markdown",
   "id": "19be1162-e02f-4a92-ad9a-08e6040deb86",
   "metadata": {
    "jp-MarkdownHeadingCollapsed": true,
    "tags": []
   },
   "source": [
    "###  $C4 = a2*T^2+b2*T+c2$"
   ]
  },
  {
   "cell_type": "code",
   "execution_count": null,
   "id": "dbe303b0-2485-46c8-8f2a-07e1d103cef5",
   "metadata": {
    "tags": []
   },
   "outputs": [],
   "source": [
    "import numpy as np\n",
    "from scipy.optimize import curve_fit, differential_evolution\n",
    "\n",
    "def func(x, a,b,c):\n",
    "    return c\n",
    "    #return a*x**2+b*x+c\n",
    "\n",
    "# provide initial guess\n",
    "initial_guess = [0,0,0]\n",
    "\n",
    "# perform the curve fit\n",
    "params, params_covariance = curve_fit(func, np.array(Tf)/1e4, C4, p0=initial_guess,maxfev=100000)\n",
    "\n",
    "# params[0] will contain the fitted value of A, params[1] the value of B\n",
    "a4,b4,c4 = params\n",
    "\n",
    "print(\"Fitted a2 = \", a4)\n",
    "print(\"Fitted b2 = \", b4)\n",
    "print(\"Fitted c2 = \", c4)\n",
    "print(\"{:.5f}*x**2+{:.5f}*x+{:.5f}\".format(a4,b4,c4))"
   ]
  },
  {
   "cell_type": "markdown",
   "id": "3864c370-0a24-4549-8439-7738d2fe3383",
   "metadata": {},
   "source": [
    "### R2 of c1,c2,c3"
   ]
  },
  {
   "cell_type": "code",
   "execution_count": 20,
   "id": "e023c2c0-7596-4324-8dc7-9e6ddca48c4a",
   "metadata": {},
   "outputs": [],
   "source": [
    "import matplotlib.pyplot as plt\n",
    "import matplotlib.gridspec as gridspec\n",
    "\n",
    "font = 13\n",
    "fontfml = 'Times New Roman'\n",
    "plt.rcParams['font.size'] = font\n",
    "plt.rcParams['font.family'] = fontfml\n",
    "plt.rcParams['mathtext.fontset']='custom'\n",
    "plt.rcParams['mathtext.rm'] =fontfml\n",
    "plt.rcParams['mathtext.it'] = 'Times New Roman:italic'\n",
    "plt.rcParams['mathtext.bf'] = 'Times New Roman:bold'\n",
    "#plt.rcParams['text.usetex'] = True\n",
    "\n",
    "# remove default bold font setting--run only on Linux server\n",
    "import matplotlib as mpl\n",
    "#del mpl.font_manager.weight_dict['roman']\n",
    "#mpl.font_manager._rebuild()"
   ]
  },
  {
   "cell_type": "code",
   "execution_count": 37,
   "id": "39ed5fef-9ef6-4ba5-bfcb-23d9a748caa8",
   "metadata": {},
   "outputs": [
    {
     "name": "stdout",
     "output_type": "stream",
     "text": [
      "49.24890*x**2+-54.10890*x+45.63559\n",
      "-8.82158*x**2+6.21562*x+-3.17893\n",
      "2.23966*x**2+-3.42653*x+0.50258\n",
      "[0.23 0.28 0.33 0.38 0.43 0.48 0.53 0.58]\n",
      "R2 of C1: 0.9864683978182478\n",
      "R2 of C2: 0.9260267866245864\n",
      "R2 of C3: 0.999602130363847\n"
     ]
    },
    {
     "data": {
      "image/png": "[encoded data removed]",
      "text/plain": [
       "<Figure size 300x400 with 3 Axes>"
      ]
     },
     "metadata": {},
     "output_type": "display_data"
    }
   ],
   "source": [
    "def func(x, a,b,c):\n",
    "    return a*x**2+b*x+c\n",
    "\n",
    "fig = plt.figure(figsize=(3, 4))\n",
    "gs = gridspec.GridSpec(3, 1)\n",
    "ax1 = fig.add_subplot(gs[0, 0])\n",
    "ax2 = fig.add_subplot(gs[1, 0])\n",
    "ax3 = fig.add_subplot(gs[2, 0])\n",
    "\n",
    "initial_guess = [1,1,1]\n",
    "params, params_covariance = curve_fit(func, np.array(Tf)/1e4, C1, p0=initial_guess,maxfev=100000)\n",
    "a1,b1,c1 = params\n",
    "print(\"{:.5f}*x**2+{:.5f}*x+{:.5f}\".format(a1,b1,c1))\n",
    "initial_guess = [0,0,-1]\n",
    "params, params_covariance = curve_fit(func, np.array(Tf)/1e4, C2, p0=initial_guess,maxfev=100000)\n",
    "a2,b2,c2 = params\n",
    "print(\"{:.5f}*x**2+{:.5f}*x+{:.5f}\".format(a2,b2,c2))\n",
    "initial_guess = [0,0,0]\n",
    "params, params_covariance = curve_fit(func, np.array(Tf)/1e4, C3, p0=initial_guess,maxfev=100000)\n",
    "a3,b3,c3 = params\n",
    "print(\"{:.5f}*x**2+{:.5f}*x+{:.5f}\".format(a3,b3,c3))\n",
    "\n",
    "tp = np.array(Tf)\n",
    "tt = tp/1e4\n",
    "print(tt)\n",
    "#cc1 = a1*tt+b1\n",
    "cc1 = a1*tt**2 + b1*tt + c1\n",
    "cc2 = a2*tt**2 + b2*tt + c2 \n",
    "cc3 = a3*tt**2 + b3*tt + c3\n",
    "\n",
    "ax=axs\n",
    "\n",
    "ax1.plot(tp,cc1, color=\"C0\")\n",
    "ax2.plot(tp,cc2,alpha=0.5, color=\"C1\")\n",
    "ax3.plot(tp,cc3,alpha=0.5, color=\"C2\")\n",
    "\n",
    "# Calculate R^2\n",
    "print(\"R2 of C1:\",r2_score(cc1, C1))\n",
    "print(\"R2 of C2:\",r2_score(cc2, C2))\n",
    "print(\"R2 of C3:\",r2_score(cc3, C3))\n",
    "\n",
    "\n",
    "ax1.scatter(Tf,C1,color=\"C0\",\n",
    "            label=r\"$\\mathrm{R}^2$ = \"+\"{:.3f}\".format(r2_score(cc1, C1)))\n",
    "ax2.scatter(Tf,C2,color=\"C1\",\n",
    "            label=\"$\\mathrm{R}^2$ = \"+\"{:.3f}\".format(r2_score(cc2, C2)))\n",
    "ax3.scatter(Tf,C3,color=\"C2\",\n",
    "            label=\"$\\mathrm{R}^2$ = \"+\"{:.4f}\".format(r2_score(cc3, C3)))\n",
    "\n",
    "ax1.xaxis.grid(True, linestyle='--', which='both', color='grey', alpha=.5)\n",
    "ax1.yaxis.grid(True, linestyle='--', which='both', color='grey', alpha=.5)\n",
    "\n",
    "ax2.xaxis.grid(True, linestyle='--', which='both', color='grey', alpha=.5)\n",
    "ax2.yaxis.grid(True, linestyle='--', which='both', color='grey', alpha=.5)\n",
    "\n",
    "ax3.xaxis.grid(True, linestyle='--', which='both', color='grey', alpha=.5)\n",
    "ax3.yaxis.grid(True, linestyle='--', which='both', color='grey', alpha=.5)\n",
    "\n",
    "ax1.legend(loc='upper right',handlelength=0.05, )\n",
    "ax2.legend(loc='lower left',handlelength=0.05,bbox_to_anchor=(0.1, 0))\n",
    "ax3.legend(loc='upper right',handlelength=0.05,bbox_to_anchor=(1.01, 1.04))\n",
    "\n",
    "#leg.set_bbox_to_anchor([0, 0.62, 0.55, 0])\n",
    "xlabel = [2300, 2800, 3300, 3800, 4300, 4800, 5300,5800]\n",
    "ax1.set_xticks(np.array(xlabel))\n",
    "ax1.set_xticklabels([])\n",
    "ax2.set_xticks(np.array(xlabel))\n",
    "ax2.set_xticklabels([])\n",
    "ax3.set_xticks(np.array(xlabel))\n",
    "\n",
    "\n",
    "ax1.text(0.01, 0.1, '(a)', transform=ax1.transAxes,fontsize=font+2,fontfamily=fontfml, weight='bold')\n",
    "ax2.text(0.01, 0.8, '(b)', transform=ax2.transAxes,fontsize=font+1,fontfamily=fontfml, weight='bold')\n",
    "ax3.text(0.01, 0.1, '(c)', transform=ax3.transAxes,fontsize=font+2,fontfamily=fontfml, weight='bold')\n",
    "\n",
    "ax1.set_title('$\\lambda$ > 1',fontsize=font+1)\n",
    "ax3.set_xlabel('Temperature [K]')\n",
    "\n",
    "ax2.set_ylabel(r\"Value of $\\mathrm{C}_{1,2,3}$\")\n",
    "plt.xticks(rotation=90)\n",
    "\n",
    "plt.show()\n",
    "fig_dir = '../figure/Fit_T_depth/'\n",
    "fig.savefig(fig_dir+'R_abs_highT_lw.png', dpi=300, bbox_inches='tight')"
   ]
  },
  {
   "cell_type": "code",
   "execution_count": 39,
   "id": "7c717578-5cb1-4b17-8aff-6130891b203c",
   "metadata": {},
   "outputs": [
    {
     "data": {
      "text/plain": [
       "array([ 300,  800, 1300, 1800, 2300, 2800, 3300, 3800, 4300, 4800, 5300,\n",
       "       5800])"
      ]
     },
     "execution_count": 39,
     "metadata": {},
     "output_type": "execute_result"
    }
   ],
   "source": [
    "T = np.arange(800,5800+500,500)  # K\n",
    "T = np.append(300,T)\n",
    "T"
   ]
  },
  {
   "cell_type": "markdown",
   "id": "c7db53bd-c33d-429f-b9ef-d732526c55ce",
   "metadata": {},
   "source": [
    "### final result"
   ]
  },
  {
   "cell_type": "code",
   "execution_count": 40,
   "id": "3773e4a0-8ec4-4767-a57b-8bdac5f48372",
   "metadata": {},
   "outputs": [
    {
     "data": {
      "text/plain": [
       "0.5"
      ]
     },
     "execution_count": 40,
     "metadata": {},
     "output_type": "execute_result"
    }
   ],
   "source": [
    "sc = 3.5\n",
    "cd  # 50 cm "
   ]
  },
  {
   "cell_type": "code",
   "execution_count": 90,
   "id": "36b0513d-327d-4392-a44a-b9e191beae01",
   "metadata": {
    "tags": []
   },
   "outputs": [
    {
     "name": "stdout",
     "output_type": "stream",
     "text": [
      "2\n",
      "2300K, R2:0.005589923992904753\n",
      "2800K, R2:0.006658985604748335\n",
      "3300K, R2:0.004281398470995354\n",
      "3800K, R2:0.0024942929737882926\n",
      "4300K, R2:0.0037313195436060693\n",
      "4800K, R2:0.0028746098328928447\n",
      "5300K, R2:0.0016661610321640563\n",
      "5800K, R2:0.00235768087872625\n",
      "mean R2: 0.0037067965412282446\n"
     ]
    },
    {
     "data": {
      "image/png": "[encoded data removed]",
      "text/plain": [
       "<Figure size 250x400 with 1 Axes>"
      ]
     },
     "metadata": {},
     "output_type": "display_data"
    }
   ],
   "source": [
    "cmap = plt.get_cmap(\"tab10\")\n",
    "\n",
    "# Set default font family and font size\n",
    "plt.rcParams['font.family'] = 'Times New Roman'  # For example, set font to Arial\n",
    "plt.rcParams['font.size'] = 14  # \n",
    "\n",
    "TR_p = []\n",
    "\n",
    "fig, ax = plt.subplots(1,figsize=(2.5,4))\n",
    "for p in range(1):\n",
    "    p=p+2  # the second kind of plotting method, line for regressed funcs.\n",
    "    print(p)\n",
    "    initial_guess = [0,0,0]\n",
    "    params, params_covariance = curve_fit(func, np.array(Tf)/1e4, C1, p0=initial_guess,maxfev=100000)\n",
    "    a1,b1,c1 = params\n",
    "    initial_guess = [0,0,0]\n",
    "    params, params_covariance = curve_fit(func, np.array(Tf)/1e4, C2, p0=initial_guess,maxfev=100000)\n",
    "    a2,b2,c2 = params\n",
    "    initial_guess = [0,0,0]\n",
    "    params, params_covariance = curve_fit(func, np.array(Tf)/1e4, C3, p0=initial_guess,maxfev=100000)\n",
    "    a3,b3,c3 = params\n",
    "    i=0\n",
    "    #ax=axs[p-1]\n",
    "    #ax=axs[0]\n",
    "    for tp in Tf:\n",
    "        dff = df[df['Temp']==tp]\n",
    "        dff = dff.sort_values(by='layer')\n",
    "        # Loop through each row\n",
    "        for index, row in dff.iterrows():\n",
    "            z = row['z']\n",
    "            x = z /1e2 #*row['k_ave']/1e4\n",
    "            y = row['int_abs']\n",
    "\n",
    "            tt = tp/1e4\n",
    "            cc1 = a1*tt**2 + b1*tt + c1\n",
    "            cc2 = a2*tt**2 + b2*tt + c2\n",
    "            cc3 = a3*tt**2 + b3*tt + c3\n",
    "\n",
    "            if row['layer']==30:\n",
    "                y_r = y[:-5]\n",
    "                x_r = x[:-5]\n",
    "            else:\n",
    "                x_r = np.concatenate((x_r,x[:-5]))\n",
    "                y_r = np.concatenate((y_r,y[:-5]))\n",
    "\n",
    "        y_r1 = y_r[x_r<=cd]  # 50 cm\n",
    "        x_r1 = x_r[x_r<=cd]\n",
    "\n",
    "        yf = 1-np.exp(-cc1*x_r1+cc2)+cc3\n",
    "        # Get the indices that would sort y\n",
    "        sort_indices = np.argsort(yf)\n",
    "        x_sorted = x_r1[sort_indices]\n",
    "        y_sorted = yf[sort_indices]\n",
    "        #ax.scatter(x_r1, yf, s=sc,alpha=0.5, color=cmap(18)) # label=rf\"{tp}\\degreeC\")\n",
    "        ax.plot(x_sorted, y_sorted, alpha=0.8, color=cmap(18),linewidth=0.8)\n",
    "        ax.scatter(x_r1, y_r1, s=sc-0.5, alpha=0.7, color=cmap(i)) # label=rf\"{tp}\\degreeC\")\n",
    "        #print(y_f1.shape)\n",
    "        #print(y_r1.shape)\n",
    "        #temp = r2_score(yf, y_r1)\n",
    "        #temp = mean_absolute_percentage_error(yf, y_r1)\n",
    "        temp = np.sqrt(mean_squared_error(yf, y_r1))\n",
    "        \n",
    "        print(f\"{tp}K, R2:{temp}\")\n",
    "        if p==1:\n",
    "            ax.scatter(x_r1, y_r1, s=sc-0.5, alpha=0.7, color=cmap(i))#,label=rf\"{tp} K\")\n",
    "        else:\n",
    "            ax.scatter(x_r1, y_r1, s=sc-0.5, alpha=0.7, color=cmap(i),label=rf\"{tp} K\")\n",
    "        TR_p.append(temp)\n",
    "        i=i+1\n",
    "    print(\"mean R2:\",np.mean(np.array(TR_p)))\n",
    "    \n",
    "    if p==1:\n",
    "        ax.plot(x_r1, yf, alpha=0.8, color=cmap(18), label=\"regressed curve\")\n",
    "        ax.scatter(x_r1, y_r1, s=sc, alpha=0.7, color=cmap(i-1)) # make last one front\n",
    "    else:\n",
    "        sort_indices = np.argsort(yf)\n",
    "        x_sorted = x_r1[sort_indices]\n",
    "        y_sorted = yf[sort_indices]\n",
    "        ax.plot(x_sorted, y_sorted, alpha=0.8, color=cmap(18), label=\"regressed curve\")\n",
    "        #ax.plot(x_sorted, y_sorted, alpha=0.5, color=f'C9')\n",
    "        ax.scatter(x_r1, y_r1, s=sc-0.5, alpha=0.7, color=cmap(i-1)) # make last one front\n",
    "\n",
    "    ax.xaxis.grid(True, linestyle='--', which='both', color='grey', alpha=.5)\n",
    "    ax.yaxis.grid(True, linestyle='--', which='both', color='grey', alpha=.5)\n",
    "\n",
    "    ax.set_xlabel(r'Depth [m]')\n",
    "    \n",
    "    ax.set_ylabel('Absorption rate')\n",
    "\n",
    "leg = ax.legend(ncol=1,columnspacing=0.8,framealpha=1,\n",
    "                handlelength=1, handletextpad=0.5,\n",
    "                fontsize=font-1,bbox_to_anchor=(1.2, 0.6), bbox_transform=ax.transAxes)\n",
    "ax.set_xlim(0,.5)\n",
    "ax.set_xticks([0,0.1,0.2,0.3,0.4,0.5])\n",
    "\n",
    "ax.set_title('$\\lambda$ > 1,'+f' MAPE = {np.mean(np.array(TR_p)):.4f}',fontsize=font+1)\n",
    "ax.text(0.01, 0.95, '(a)', transform=ax.transAxes,fontsize=font+2,fontfamily=fontfml,weight='bold')\n",
    "fig_dir = \"../figure/Fit_T_depth/\"\n",
    "\n",
    "#fig.savefig(fig_dir+'R_abs_depth_highT_lw.png', dpi=300, bbox_inches='tight',transparent=True)\n",
    "plt.show()"
   ]
  },
  {
   "cell_type": "markdown",
   "id": "116179f6-3d1c-4665-99d7-d115cc5d18c1",
   "metadata": {},
   "source": [
    "0.08cm : 0.769,0.835\n",
    "0.06cm:0.8,0.85\n",
    "0.06cm:0.836,0.88"
   ]
  },
  {
   "cell_type": "markdown",
   "id": "44b3a773-eabf-4cbd-8f5e-4fc209e25f6d",
   "metadata": {},
   "source": [
    "The absorption rate is followed the beer's law. \n",
    "The last element is the last layer above the bottom, it receive the reflected energy, thus there are abnormal steep over there for the last several layers.\n"
   ]
  },
  {
   "cell_type": "markdown",
   "id": "87e4f103-3d26-426b-a946-2002de8169ab",
   "metadata": {},
   "source": [
    "the general $$y = 1- e^{-c_1*x+c_2}+c3$$\n",
    "\n",
    "$$\\int e^x dx=e^x + C$$\n",
    "\n",
    "Fitted c1 =  1.04655*$x^2$ -1.04854 * x + 0.30797,  that is y=$(x−0.50047)^2$+0.04449\n",
    "\n",
    "Fitted c2 =  -0.4124231351952815\n",
    "\n",
    "Fitted c3 =  -0.032537747599439754"
   ]
  },
  {
   "cell_type": "code",
   "execution_count": 91,
   "id": "b71712d3-2bfd-46dd-92bc-cc9aec6bb03f",
   "metadata": {},
   "outputs": [
    {
     "data": {
      "text/plain": [
       "[0.005589923992904753,\n",
       " 0.006658985604748335,\n",
       " 0.004281398470995354,\n",
       " 0.0024942929737882926,\n",
       " 0.0037313195436060693,\n",
       " 0.0028746098328928447,\n",
       " 0.0016661610321640563,\n",
       " 0.00235768087872625]"
      ]
     },
     "execution_count": 91,
     "metadata": {},
     "output_type": "execute_result"
    }
   ],
   "source": [
    "TR_p"
   ]
  },
  {
   "cell_type": "code",
   "execution_count": 63,
   "id": "1ae35d88-a222-4ff4-897a-dbcd771da85b",
   "metadata": {},
   "outputs": [
    {
     "data": {
      "text/plain": [
       "array([2300, 2800, 3300, 3800, 4300, 4800, 5300, 5800])"
      ]
     },
     "execution_count": 63,
     "metadata": {},
     "output_type": "execute_result"
    }
   ],
   "source": [
    "R2 = np.array(TR_p)\n",
    "T[4:]"
   ]
  },
  {
   "cell_type": "code",
   "execution_count": 64,
   "id": "d3b7a1d4-ecaf-4d32-a667-7a59a1438523",
   "metadata": {},
   "outputs": [
    {
     "data": {
      "image/png": "[encoded data removed]",
      "text/plain": [
       "<Figure size 180x350 with 1 Axes>"
      ]
     },
     "metadata": {},
     "output_type": "display_data"
    }
   ],
   "source": [
    "plt.rcParams['font.family'] = 'Times New Roman'  # For example, set font to Arial\n",
    "plt.rcParams['font.size'] = 14  # \n",
    "fig, ax = plt.subplots(figsize=(1.8, 3.5))\n",
    "\n",
    "bars = ax.barh(T[4:],R2,color='C0',height=300,alpha=0.65)\n",
    "\n",
    "xlabel=[0.8,0.9,1]\n",
    "ax.set_xticks(np.array(xlabel))\n",
    "ax.set_xlim([0.7, 1])\n",
    "ylabel = T[4:]\n",
    "\n",
    "\n",
    "ax.set_yticks(np.array(ylabel))\n",
    "ax.text(0.8, 0.05, '(a)', transform=ax.transAxes,fontsize=font+2,fontfamily=fontfml, weight='bold')\n",
    "ax.set_xlabel(r'$\\mathrm{R}^2$')\n",
    "ax.set_ylabel('Temperature [K]')\n",
    "ax.xaxis.grid(True, linestyle='--', which='both', color='grey', alpha=.5)\n",
    "ax.yaxis.grid(True, linestyle='--', which='both', color='grey', alpha=.5)\n",
    "#plt.tight_layout()\n",
    "\n",
    "# Annotate each bar with its value\n",
    "for bar in bars:\n",
    "    width = bar.get_width()\n",
    "    ax.text(width-0.045,  # x position of the text\n",
    "            bar.get_y() + bar.get_height() / 2,  # y position of the text\n",
    "            f'{width:.2f}',  # value (formatted to 2 decimal places here)\n",
    "            ha='center', va='center',fontsize=font,fontfamily=fontfml,\n",
    "            color='black')\n",
    "\n",
    "fig_dir = \"../figure/Fit_T_depth/\"\n",
    "ax.set_title('$\\lambda$ > 1',fontsize=font+1)\n",
    "fig.savefig(fig_dir+'fit_r2_highT_lw.png', dpi=300, bbox_inches='tight',transparent=True)\n",
    "\n",
    "plt.show()"
   ]
  },
  {
   "cell_type": "code",
   "execution_count": null,
   "id": "03b688dd-c807-4b09-a934-4a97e2b4273b",
   "metadata": {},
   "outputs": [],
   "source": []
  }
 ],
 "metadata": {
  "kernelspec": {
   "display_name": "python37",
   "language": "python",
   "name": "python37"
  },
  "language_info": {
   "codemirror_mode": {
    "name": "ipython",
    "version": 3
   },
   "file_extension": ".py",
   "mimetype": "text/x-python",
   "name": "python",
   "nbconvert_exporter": "python",
   "pygments_lexer": "ipython3",
   "version": "3.10.11"
  }
 },
 "nbformat": 4,
 "nbformat_minor": 5
}
