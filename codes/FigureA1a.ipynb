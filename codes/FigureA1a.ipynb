{
 "cells": [
  {
   "cell_type": "code",
   "execution_count": 4,
   "id": "93b8570d-878b-44fc-b32c-8b19ec309cc5",
   "metadata": {},
   "outputs": [],
   "source": [
    "import time\n",
    "import numpy as np\n",
    "import math\n",
    "import matplotlib.pyplot as plt\n",
    "from multiprocessing import Pool\n",
    "import random\n",
    "import timeit\n",
    "import copy\n",
    "import pandas as pd\n",
    "import warnings\n",
    "import scipy.integrate as integrate\n",
    "warnings.filterwarnings('ignore')\n",
    "import os\n",
    "import re"
   ]
  },
  {
   "cell_type": "code",
   "execution_count": 5,
   "id": "549c3e43-0237-4dd4-82c3-44705b4da38f",
   "metadata": {},
   "outputs": [],
   "source": [
    "font=15\n",
    "fontfml='Times New Roman'\n",
    "plt.rcParams['font.size'] = font\n",
    "plt.rcParams['font.family'] = fontfml\n",
    "plt.rcParams['mathtext.fontset']='custom'\n",
    "plt.rcParams['mathtext.rm'] =fontfml\n",
    "plt.rcParams['mathtext.it'] = 'Times New Roman:italic'\n",
    "plt.rcParams['mathtext.bf'] = 'Times New Roman:bold'"
   ]
  },
  {
   "cell_type": "code",
   "execution_count": 30,
   "id": "844ce739-d22a-40e9-98db-714930bf33c0",
   "metadata": {
    "tags": []
   },
   "outputs": [
    {
     "data": {
      "text/plain": [
       "['SW_results_200layer_1000bundle_60theta_2.0AR.npy',\n",
       " 'SW_results_200layer_1000bundle_60theta_8.0AR.npy',\n",
       " 'SW_results_200layer_1000bundle_60theta_10.0AR.npy',\n",
       " 'SW_results_200layer_1000bundle_60theta_4.0AR.npy',\n",
       " 'SW_results_200layer_1000bundle_60theta_12.0AR.npy',\n",
       " 'SW_results_200layer_1000bundle_60theta_6.0AR.npy']"
      ]
     },
     "execution_count": 30,
     "metadata": {},
     "output_type": "execute_result"
    }
   ],
   "source": [
    "path = \"./\"\n",
    "Fls = os.listdir(path)\n",
    "targetstr='resolution.npy'\n",
    "Fls = [f for f in Fls if f.startswith(\"SW_results_200layer_1000bundle_60theta\")]\n",
    "Fls"
   ]
  },
  {
   "cell_type": "code",
   "execution_count": 31,
   "id": "bc715550-6f15-4c08-b252-17cb92d1885a",
   "metadata": {
    "scrolled": true,
    "tags": []
   },
   "outputs": [
    {
     "data": {
      "text/plain": [
       "[2.0, 8.0, 10.0, 4.0, 12.0, 6.0]"
      ]
     },
     "execution_count": 31,
     "metadata": {},
     "output_type": "execute_result"
    }
   ],
   "source": [
    "numbers = []\n",
    "for string in Fls:\n",
    "    match = re.search(r'_([\\d.]+)AR.npy', string)\n",
    "    if match:\n",
    "        number = float(match.group(1))\n",
    "        numbers.append(number)\n",
    "numbers"
   ]
  },
  {
   "cell_type": "code",
   "execution_count": 32,
   "id": "21756e4b-1799-4fa9-8a8b-080708dc6ba8",
   "metadata": {},
   "outputs": [],
   "source": [
    "def calculateF(res,nu):\n",
    "    #F_gas = res.item().get('F_n_abs')\n",
    "    F_total = 0\n",
    "    #items = ['F_n_abs', 'F_n_abs_leftn', 'F_n_abs_rights', 'F_n_abs_fronte', 'F_n_abs_backw']\n",
    "    items = ['F_n_abs']\n",
    "    for item in items:\n",
    "        temp = res.item().get(item)\n",
    "        F_i = integrate.trapz(np.array(temp), nu, axis=1)\n",
    "        F_total += np.sum(F_i)\n",
    "    return F_total\n",
    "def check_convergence(y):\n",
    "    diff = []\n",
    "    for i in range(len(y)):\n",
    "        dy = 1-abs((y[i] - y[-1])/y[-1])\n",
    "        diff.append(dy)\n",
    "    return diff"
   ]
  },
  {
   "cell_type": "code",
   "execution_count": 33,
   "id": "0c0645e2-2a20-4b61-9594-1572a7165bcd",
   "metadata": {},
   "outputs": [],
   "source": [
    "#name = []\n",
    "#res.item().keys()\n",
    "result = []\n",
    "for i in range(len(Fls)):\n",
    "    dnu = 5\n",
    "    # nu = np.arange(0, 2500+dnu,dnu)  # cm-1\n",
    "    try:\n",
    "        nu = np.arange(2500, 33333+dnu, dnu)\n",
    "        res = np.load(Fls[i], allow_pickle=True)\n",
    "        F_total = calculateF(res, nu)\n",
    "    except:\n",
    "        nu = np.arange(2500, 33333, dnu)\n",
    "        res = np.load(Fls[i], allow_pickle=True)\n",
    "        F_total = calculateF(res, nu)\n",
    "    #name.append(Fls[i][9])\n",
    "    result.append(np.sum(F_total))"
   ]
  },
  {
   "cell_type": "code",
   "execution_count": 34,
   "id": "d6a6030a-9d3a-4a54-98ef-28514a19fe62",
   "metadata": {},
   "outputs": [
    {
     "data": {
      "text/html": [
       "<div>\n",
       "<style scoped>\n",
       "    .dataframe tbody tr th:only-of-type {\n",
       "        vertical-align: middle;\n",
       "    }\n",
       "\n",
       "    .dataframe tbody tr th {\n",
       "        vertical-align: top;\n",
       "    }\n",
       "\n",
       "    .dataframe thead th {\n",
       "        text-align: right;\n",
       "    }\n",
       "</style>\n",
       "<table border=\"1\" class=\"dataframe\">\n",
       "  <thead>\n",
       "    <tr style=\"text-align: right;\">\n",
       "      <th></th>\n",
       "      <th>12.0</th>\n",
       "      <th>10.0</th>\n",
       "      <th>8.0</th>\n",
       "      <th>6.0</th>\n",
       "      <th>4.0</th>\n",
       "      <th>2.0</th>\n",
       "    </tr>\n",
       "  </thead>\n",
       "  <tbody>\n",
       "    <tr>\n",
       "      <th>0</th>\n",
       "      <td>546.571627</td>\n",
       "      <td>810.071015</td>\n",
       "      <td>837.360364</td>\n",
       "      <td>838.139014</td>\n",
       "      <td>838.358996</td>\n",
       "      <td>838.763027</td>\n",
       "    </tr>\n",
       "  </tbody>\n",
       "</table>\n",
       "</div>"
      ],
      "text/plain": [
       "         12.0        10.0        8.0         6.0         4.0         2.0 \n",
       "0  546.571627  810.071015  837.360364  838.139014  838.358996  838.763027"
      ]
     },
     "execution_count": 34,
     "metadata": {},
     "output_type": "execute_result"
    }
   ],
   "source": [
    "df = pd.DataFrame([result],columns=numbers)\n",
    "\n",
    "# Define the desired column order as a list of numbers\n",
    "desired_order = list(np.sort(numbers)[::-1])\n",
    "\n",
    "# Sort the columns based on the desired order\n",
    "df_sorted = df.reindex(columns=desired_order)\n",
    "df_sorted"
   ]
  },
  {
   "cell_type": "markdown",
   "id": "c3826c7a-6763-4637-a98b-372162557831",
   "metadata": {
    "tags": []
   },
   "source": [
    "# SW"
   ]
  },
  {
   "cell_type": "code",
   "execution_count": 19,
   "id": "18f01dca-2707-49d3-8bf3-06e2662e2410",
   "metadata": {},
   "outputs": [
    {
     "data": {
      "image/png": "[encoded data removed]",
      "text/plain": [
       "<Figure size 600x400 with 1 Axes>"
      ]
     },
     "metadata": {},
     "output_type": "display_data"
    }
   ],
   "source": [
    "\n",
    "fontfml='Times New Roman'\n",
    "plt.rcParams['font.family'] = 'Times New Roman'  # For example, set font to Arial\n",
    "plt.rcParams['font.size'] = 15  # \n",
    "\n",
    "from matplotlib.ticker import PercentFormatter\n",
    "\n",
    "# Define the x and y values\n",
    "x = np.arange(len(Fls)) + 1\n",
    "# ymean = np.mean(result)\n",
    "y = df_sorted.values  # - ymean\n",
    " \n",
    "# Create the first plot\n",
    "fig, ax2 = plt.subplots(figsize=(6, 4))\n",
    "#ax1.scatter(x, y, s=100, facecolors='none', edgecolors='C0', label='Broadband flux')\n",
    "mean_value = np.mean(y)\n",
    "diff = check_convergence(y[0])\n",
    "#ax1.axhline(mean_value, color='C0', linestyle='--', label='Mean of broadband flux')\n",
    "\n",
    "#ax1.set_xlabel(r'Resolution of wavenumber $N_\\nu$')\n",
    "#ax1.set_ylabel('Broadband flux [W/m$^2$]')\n",
    "\n",
    "x_labels = df_sorted.columns\n",
    "ax2.set_xticks(x)\n",
    "ax2.set_xticklabels(x_labels)\n",
    "\n",
    "# Create twin axes\n",
    "#ax2 = ax1.twinx()\n",
    "ax2.scatter(x, diff, s=100, marker='^', facecolors='none', edgecolors='C3', label='Convergence rate')\n",
    "#ax2.set_ylim(0.93, 1.002)\n",
    "\n",
    "ax2.set_ylabel(r'$r_c$ [%]')\n",
    "ax2.yaxis.set_major_formatter(PercentFormatter(1))\n",
    "\n",
    "# Combine legends\n",
    "#lines, labels = ax1.get_legend_handles_labels()\n",
    "#lines2, labels2 = ax2.get_legend_handles_labels()\n",
    "#fig.legend(lines + lines2, labels + labels2, loc='lower left',bbox_to_anchor=(0.15, 0.15))\n",
    "\n",
    "# Set labels and title\n",
    "plt.title('(a) Surface solar spectrum')\n",
    "\n",
    "#plt.savefig('dnu_sw_4.png')\n",
    "#fig.savefig('dnu_sw_4.png', dpi=300, bbox_inches='tight',transparent=True)\n",
    "plt.show()"
   ]
  },
  {
   "cell_type": "code",
   "execution_count": 90,
   "id": "e65410e8-962c-47c3-8e51-00d0823d585e",
   "metadata": {},
   "outputs": [
    {
     "data": {
      "text/plain": [
       "[0.9997673512409999, 0.9999917640890614, 0.999955713644472, 1.0]"
      ]
     },
     "execution_count": 90,
     "metadata": {},
     "output_type": "execute_result"
    }
   ],
   "source": [
    "xs = x\n",
    "diffs = diff\n",
    "#diffs = [round(x, 4) if not np.isnan(x) else float('nan') for x in diffs]\n",
    "diffs"
   ]
  },
  {
   "cell_type": "code",
   "execution_count": 91,
   "id": "e0fe84ca-535a-4317-b1c2-d2756ba47c09",
   "metadata": {},
   "outputs": [],
   "source": [
    "# time efficiency\n",
    "reso=[1,3,5,10][::-1]\n",
    "swt = [664.6,225.698,135.16,69.27,np.nan][::-1]\n",
    "lwt=[692.87,259.97,137.54,70.425,np.nan][::-1]"
   ]
  },
  {
   "cell_type": "code",
   "execution_count": 92,
   "id": "c618daa2-cbae-436c-bdc8-92b31bd0f517",
   "metadata": {},
   "outputs": [],
   "source": [
    "swt = np.array(swt)\n",
    "lwt = np.array(lwt)"
   ]
  },
  {
   "cell_type": "code",
   "execution_count": 93,
   "id": "9ed178d8-c9b0-46d4-8312-f449801deb84",
   "metadata": {},
   "outputs": [],
   "source": [
    "swt = swt/(np.nanmax(swt)-np.nanmin(swt))\n",
    "lwt = lwt/(np.nanmax(lwt)-np.nanmin(lwt))"
   ]
  },
  {
   "cell_type": "markdown",
   "id": "ac3daef2-defc-40b6-b4e7-d6c05a9f7c4c",
   "metadata": {
    "tags": []
   },
   "source": [
    "# long wave - du = 4"
   ]
  },
  {
   "cell_type": "code",
   "execution_count": 94,
   "id": "842c0697-b64e-4f2e-bc82-3655a29515b0",
   "metadata": {},
   "outputs": [
    {
     "data": {
      "text/plain": [
       "['5800_results_200layer_1000bundle_0theta_3resolution.npy',\n",
       " '5800_results_200layer_1000bundle_0theta_10resolution.npy',\n",
       " '5800_results_200layer_1000bundle_0theta_5resolution.npy',\n",
       " '5800_results_200layer_1000bundle_0theta_1resolution.npy']"
      ]
     },
     "execution_count": 94,
     "metadata": {},
     "output_type": "execute_result"
    }
   ],
   "source": [
    "path = \"./\"\n",
    "Fls = os.listdir(path)\n",
    "targetstr='5800_results_200layer_1000bundle_0theta'\n",
    "Fls = [f for f in Fls if f.startswith(targetstr)]\n",
    "Fls"
   ]
  },
  {
   "cell_type": "code",
   "execution_count": 95,
   "id": "72e0d56a-58db-49cc-9f77-2ee32935373a",
   "metadata": {},
   "outputs": [],
   "source": [
    "def calculateF(res,nu):\n",
    "    #F_gas = res.item().get('F_n_abs')\n",
    "    F_total = 0\n",
    "    #items = ['F_n_abs', 'F_n_abs_leftn', 'F_n_abs_rights', 'F_n_abs_fronte', 'F_n_abs_backw']\n",
    "    items = ['F_n_abs']\n",
    "    for item in items:\n",
    "        temp = res.item().get(item)\n",
    "        F_i = integrate.trapz(np.array(temp), nu, axis=1)\n",
    "        F_total += np.sum(F_i[-8])\n",
    "    return F_total\n",
    "def check_convergence(y):\n",
    "    diff = []\n",
    "    for i in range(len(y)):\n",
    "        dy = 1-abs((y[i] - y[-1])/y[-1])\n",
    "        diff.append(dy)\n",
    "    return diff"
   ]
  },
  {
   "cell_type": "code",
   "execution_count": 96,
   "id": "05e2eade-d164-4712-814c-e225e977e4df",
   "metadata": {},
   "outputs": [
    {
     "data": {
      "text/html": [
       "<div>\n",
       "<style scoped>\n",
       "    .dataframe tbody tr th:only-of-type {\n",
       "        vertical-align: middle;\n",
       "    }\n",
       "\n",
       "    .dataframe tbody tr th {\n",
       "        vertical-align: top;\n",
       "    }\n",
       "\n",
       "    .dataframe thead th {\n",
       "        text-align: right;\n",
       "    }\n",
       "</style>\n",
       "<table border=\"1\" class=\"dataframe\">\n",
       "  <thead>\n",
       "    <tr style=\"text-align: right;\">\n",
       "      <th></th>\n",
       "      <th>10.0</th>\n",
       "      <th>5.0</th>\n",
       "      <th>3.0</th>\n",
       "      <th>1.0</th>\n",
       "    </tr>\n",
       "  </thead>\n",
       "  <tbody>\n",
       "    <tr>\n",
       "      <th>0</th>\n",
       "      <td>619329.89173</td>\n",
       "      <td>627566.275732</td>\n",
       "      <td>628078.191182</td>\n",
       "      <td>625939.462115</td>\n",
       "    </tr>\n",
       "  </tbody>\n",
       "</table>\n",
       "</div>"
      ],
      "text/plain": [
       "           10.0           5.0            3.0            1.0 \n",
       "0  619329.89173  627566.275732  628078.191182  625939.462115"
      ]
     },
     "execution_count": 96,
     "metadata": {},
     "output_type": "execute_result"
    }
   ],
   "source": [
    "numbers = []\n",
    "for string in Fls:\n",
    "    match = re.search(r'_([\\d.]+)resolution', string)\n",
    "    if match:\n",
    "        number = float(match.group(1))\n",
    "        numbers.append(number)\n",
    "#numbers\n",
    "\n",
    "#name = []\n",
    "result = []\n",
    "for i in range(len(Fls)):\n",
    "    dnu = numbers[i]\n",
    "    nu = np.arange(1, 33333+dnu,dnu)  # cm-1\n",
    "    #nu = np.arange(2500, 35000, dnu)\n",
    "    res = np.load(Fls[i], allow_pickle=True)\n",
    "    F_total = calculateF(res, nu)\n",
    "    #name.append(Fls[i][9])\n",
    "    result.append(np.sum(F_total))\n",
    "df = pd.DataFrame([result],columns=numbers)\n",
    "\n",
    "# Define the desired column order as a list of numbers\n",
    "desired_order = list(np.sort(numbers)[::-1])\n",
    "\n",
    "# Sort the columns based on the desired order\n",
    "df_sorted = df.reindex(columns=desired_order)\n",
    "df_sorted"
   ]
  },
  {
   "cell_type": "code",
   "execution_count": 126,
   "id": "a1202550-c1b5-442d-9f7f-0b06446db029",
   "metadata": {},
   "outputs": [
    {
     "data": {
      "image/png": "[encoded data removed]",
      "text/plain": [
       "<Figure size 400x400 with 2 Axes>"
      ]
     },
     "metadata": {},
     "output_type": "display_data"
    }
   ],
   "source": [
    "from matplotlib.ticker import PercentFormatter\n",
    "import matplotlib.ticker as mticker\n",
    "font=15\n",
    "fontfml='Times New Roman'\n",
    "plt.rcParams['font.family'] = 'Times New Roman'  # For example, set font to Arial\n",
    "plt.rcParams['font.size'] = 15  # \n",
    "\n",
    "x = np.arange(len(Fls)) + 1\n",
    "y = df_sorted.values  # - ymean\n",
    "\n",
    "# Create the first plot\n",
    "fig, ax1 = plt.subplots(figsize=(4, 4))  # figsize=(15, 4)\n",
    "ax1.scatter(xs, diffs, s=100, facecolors='none', edgecolors='C0', label=r'$r_{c,\\mathrm{s}}$')\n",
    "mean_value = np.mean(y)\n",
    "diff = check_convergence(y[0])\n",
    "\n",
    "# x_labels = df_sorted.columns\n",
    "# ax1.set_xticks(x)\n",
    "# ax1.set_xticklabels(x_labels)\n",
    "# diff = [round(x, 4) if not np.isnan(x) else float('nan') for x in diff]\n",
    "# ax1.scatter(x, diff, s=100, marker='^', facecolors='none', edgecolors='C3', label=r'$r_{c,\\mathrm{blackbody}}$')\n",
    "# ax1.text(0.9, 0.03, '(b)', transform=ax1.transAxes, fontsize=font, family=fontfml,weight='bold')\n",
    "# plt.legend(bbox_to_anchor=(0.35, 1.0), handletextpad=0.01)\n",
    "\n",
    "# ax1.set_xlabel(r'$\\Delta_\\nu$')\n",
    "# ax1.set_ylabel(r'$r_c$ [%]')\n",
    "# ax1.yaxis.set_major_formatter(PercentFormatter(1,decimals=3))\n",
    "# #plt.legend(loc=\"lower left\")\n",
    "# ax1.text(0.9, 0.88, '(a)', transform=ax1.transAxes, fontsize=font, family=fontfml,weight='bold')\n",
    "\n",
    "x_labels = df_sorted.columns\n",
    "ax1.set_xticks(x)\n",
    "ax1.set_xticklabels(x_labels)\n",
    "ax1.scatter(x, diff, s=100, marker='^', facecolors='none', edgecolors='C3', label=r'$r_{c,\\mathrm{b}}$')\n",
    "ax1.set_xlabel(r'$\\Delta\\nu$')\n",
    "ax1.set_ylabel(r'$r_c$ [%]')\n",
    "ax1.yaxis.set_major_formatter(PercentFormatter(1,decimals=2))\n",
    "#plt.legend(loc=\"center\")\n",
    "#ax1.set_ylim(0.99995,1.000005 )\n",
    "ax1.text(0.01, 0.85, '(a)', transform=ax1.transAxes, fontsize=font, family=fontfml,weight='bold')\n",
    "plt.legend(bbox_to_anchor=(0.35, 0.5), handletextpad=0.01)\n",
    "\n",
    "\n",
    "ax2 = ax1.twinx()\n",
    "#ax2.scatter(x, np.array(swt), s=10,color='C0', label='Solar time')\n",
    "#ax2.scatter(x, np.array(lwt), s=10,color='C3',alpha=0.5, label='Blackbody time')\n",
    "ax2.plot(x, np.array(swt[1:]), 'o--',color='C0', label='time$_\\mathrm{s}$')\n",
    "ax2.plot(x, np.array(lwt[1:]), 'o--',color='C3',alpha=0.5, label='time$_\\mathrm{b}$')\n",
    "ax2.set_ylabel('Scaled time')\n",
    "ax2.set_ylim(1.2, 0)\n",
    "ytick = np.array([1, 0.8, 0.6, 0.4, 0.2, 0. ])\n",
    "ax2.set_yticks(ytick)\n",
    "ax2.set_yticklabels(ytick)\n",
    "ax2.invert_yaxis()\n",
    "plt.legend(loc = \"lower right\")\n",
    "fig_dir = './../figure/'\n",
    "fig.savefig(fig_dir+'dnu_deptest.png', dpi=300, bbox_inches='tight',transparent=True)\n",
    "plt.show()"
   ]
  },
  {
   "cell_type": "code",
   "execution_count": 60,
   "id": "472801ba-fb20-448d-bbd6-87da1efe0db1",
   "metadata": {},
   "outputs": [
    {
     "data": {
      "text/plain": [
       "array([nan, nan, nan, nan, nan])"
      ]
     },
     "execution_count": 60,
     "metadata": {},
     "output_type": "execute_result"
    }
   ],
   "source": [
    "swt"
   ]
  },
  {
   "cell_type": "code",
   "execution_count": 36,
   "id": "df8b4490-abd8-4ee3-acc4-5c08c3cd382f",
   "metadata": {},
   "outputs": [
    {
     "name": "stdout",
     "output_type": "stream",
     "text": [
      "/Users/dengnan/Library/CloudStorage/OneDrive-TheHongKongPolytechnicUniversity/git_store/LBL_RTM_liquid_water/results/independent\n"
     ]
    }
   ],
   "source": [
    "!pwd"
   ]
  },
  {
   "cell_type": "code",
   "execution_count": null,
   "id": "edf896e4-979e-461d-befd-6af59308b8b8",
   "metadata": {},
   "outputs": [],
   "source": []
  }
 ],
 "metadata": {
  "kernelspec": {
   "display_name": "python37",
   "language": "python",
   "name": "python37"
  },
  "language_info": {
   "codemirror_mode": {
    "name": "ipython",
    "version": 3
   },
   "file_extension": ".py",
   "mimetype": "text/x-python",
   "name": "python",
   "nbconvert_exporter": "python",
   "pygments_lexer": "ipython3",
   "version": "3.10.11"
  }
 },
 "nbformat": 4,
 "nbformat_minor": 5
}
